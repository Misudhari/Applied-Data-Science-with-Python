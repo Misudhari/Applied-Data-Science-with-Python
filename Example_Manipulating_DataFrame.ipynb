{
  "nbformat": 4,
  "nbformat_minor": 0,
  "metadata": {
    "colab": {
      "provenance": [],
      "authorship_tag": "ABX9TyN1M9AC7wGyUel0fh163zyJ",
      "include_colab_link": true
    },
    "kernelspec": {
      "name": "python3",
      "display_name": "Python 3"
    },
    "language_info": {
      "name": "python"
    }
  },
  "cells": [
    {
      "cell_type": "markdown",
      "metadata": {
        "id": "view-in-github",
        "colab_type": "text"
      },
      "source": [
        "<a href=\"https://colab.research.google.com/github/Misudhari/Applied-Data-Science-with-Python/blob/main/Example_Manipulating_DataFrame.ipynb\" target=\"_parent\"><img src=\"https://colab.research.google.com/assets/colab-badge.svg\" alt=\"Open In Colab\"/></a>"
      ]
    },
    {
      "cell_type": "code",
      "source": [
        "from google.colab import drive\n",
        "drive.mount('/content/drive')"
      ],
      "metadata": {
        "id": "ybytJ9LA44se",
        "colab": {
          "base_uri": "https://localhost:8080/"
        },
        "outputId": "233f097a-e73f-4220-ef64-f5bda93ca94b"
      },
      "execution_count": 3,
      "outputs": [
        {
          "output_type": "stream",
          "name": "stdout",
          "text": [
            "Mounted at /content/drive\n"
          ]
        }
      ]
    },
    {
      "cell_type": "markdown",
      "source": [
        "#Basic Data Cleaning Process"
      ],
      "metadata": {
        "id": "udJC-5-j4a2x"
      }
    },
    {
      "cell_type": "code",
      "execution_count": null,
      "metadata": {
        "id": "JCbS-DGj4QIF"
      },
      "outputs": [],
      "source": [
        "import pandas as pd"
      ]
    },
    {
      "cell_type": "code",
      "source": [
        "df = pd.read_csv('/content/drive/MyDrive/Datasets/presidents.csv')\n",
        "df.head()"
      ],
      "metadata": {
        "id": "NrcHlvBV4kej",
        "colab": {
          "base_uri": "https://localhost:8080/",
          "height": 250
        },
        "outputId": "d433e76d-85d0-49c7-d646-6694e9e6ca5f"
      },
      "execution_count": 4,
      "outputs": [
        {
          "output_type": "execute_result",
          "data": {
            "text/plain": [
              "   Presidency          President   \\\n",
              "0            1  George Washington   \n",
              "1            2         John Adams   \n",
              "2            3   Thomas Jefferson   \n",
              "3            4      James Madison   \n",
              "4            5       James Monroe   \n",
              "\n",
              "                                  Wikipedia Entry Took office  Left office   \\\n",
              "0  http://en.wikipedia.org/wiki/George_Washington   30/04/1789    4/03/1797   \n",
              "1         http://en.wikipedia.org/wiki/John_Adams    4/03/1797    4/03/1801   \n",
              "2   http://en.wikipedia.org/wiki/Thomas_Jefferson    4/03/1801    4/03/1809   \n",
              "3      http://en.wikipedia.org/wiki/James_Madison    4/03/1809    4/03/1817   \n",
              "4       http://en.wikipedia.org/wiki/James_Monroe    4/03/1817    4/03/1825   \n",
              "\n",
              "                   Party               Portrait                  Thumbnail  \\\n",
              "0            Independent   GeorgeWashington.jpg  thmb_GeorgeWashington.jpg   \n",
              "1             Federalist          JohnAdams.jpg         thmb_JohnAdams.jpg   \n",
              "2  Democratic-Republican    Thomasjefferson.gif   thmb_Thomasjefferson.gif   \n",
              "3  Democratic-Republican       JamesMadison.gif      thmb_JamesMadison.gif   \n",
              "4  Democratic-Republican        JamesMonroe.gif       thmb_JamesMonroe.gif   \n",
              "\n",
              "      Home State  \n",
              "0       Virginia  \n",
              "1  Massachusetts  \n",
              "2       Virginia  \n",
              "3       Virginia  \n",
              "4       Virginia  "
            ],
            "text/html": [
              "\n",
              "  <div id=\"df-3ad9af93-dcc9-4a22-b7d9-0e7733e40e89\">\n",
              "    <div class=\"colab-df-container\">\n",
              "      <div>\n",
              "<style scoped>\n",
              "    .dataframe tbody tr th:only-of-type {\n",
              "        vertical-align: middle;\n",
              "    }\n",
              "\n",
              "    .dataframe tbody tr th {\n",
              "        vertical-align: top;\n",
              "    }\n",
              "\n",
              "    .dataframe thead th {\n",
              "        text-align: right;\n",
              "    }\n",
              "</style>\n",
              "<table border=\"1\" class=\"dataframe\">\n",
              "  <thead>\n",
              "    <tr style=\"text-align: right;\">\n",
              "      <th></th>\n",
              "      <th>Presidency</th>\n",
              "      <th>President</th>\n",
              "      <th>Wikipedia Entry</th>\n",
              "      <th>Took office</th>\n",
              "      <th>Left office</th>\n",
              "      <th>Party</th>\n",
              "      <th>Portrait</th>\n",
              "      <th>Thumbnail</th>\n",
              "      <th>Home State</th>\n",
              "    </tr>\n",
              "  </thead>\n",
              "  <tbody>\n",
              "    <tr>\n",
              "      <th>0</th>\n",
              "      <td>1</td>\n",
              "      <td>George Washington</td>\n",
              "      <td>http://en.wikipedia.org/wiki/George_Washington</td>\n",
              "      <td>30/04/1789</td>\n",
              "      <td>4/03/1797</td>\n",
              "      <td>Independent</td>\n",
              "      <td>GeorgeWashington.jpg</td>\n",
              "      <td>thmb_GeorgeWashington.jpg</td>\n",
              "      <td>Virginia</td>\n",
              "    </tr>\n",
              "    <tr>\n",
              "      <th>1</th>\n",
              "      <td>2</td>\n",
              "      <td>John Adams</td>\n",
              "      <td>http://en.wikipedia.org/wiki/John_Adams</td>\n",
              "      <td>4/03/1797</td>\n",
              "      <td>4/03/1801</td>\n",
              "      <td>Federalist</td>\n",
              "      <td>JohnAdams.jpg</td>\n",
              "      <td>thmb_JohnAdams.jpg</td>\n",
              "      <td>Massachusetts</td>\n",
              "    </tr>\n",
              "    <tr>\n",
              "      <th>2</th>\n",
              "      <td>3</td>\n",
              "      <td>Thomas Jefferson</td>\n",
              "      <td>http://en.wikipedia.org/wiki/Thomas_Jefferson</td>\n",
              "      <td>4/03/1801</td>\n",
              "      <td>4/03/1809</td>\n",
              "      <td>Democratic-Republican</td>\n",
              "      <td>Thomasjefferson.gif</td>\n",
              "      <td>thmb_Thomasjefferson.gif</td>\n",
              "      <td>Virginia</td>\n",
              "    </tr>\n",
              "    <tr>\n",
              "      <th>3</th>\n",
              "      <td>4</td>\n",
              "      <td>James Madison</td>\n",
              "      <td>http://en.wikipedia.org/wiki/James_Madison</td>\n",
              "      <td>4/03/1809</td>\n",
              "      <td>4/03/1817</td>\n",
              "      <td>Democratic-Republican</td>\n",
              "      <td>JamesMadison.gif</td>\n",
              "      <td>thmb_JamesMadison.gif</td>\n",
              "      <td>Virginia</td>\n",
              "    </tr>\n",
              "    <tr>\n",
              "      <th>4</th>\n",
              "      <td>5</td>\n",
              "      <td>James Monroe</td>\n",
              "      <td>http://en.wikipedia.org/wiki/James_Monroe</td>\n",
              "      <td>4/03/1817</td>\n",
              "      <td>4/03/1825</td>\n",
              "      <td>Democratic-Republican</td>\n",
              "      <td>JamesMonroe.gif</td>\n",
              "      <td>thmb_JamesMonroe.gif</td>\n",
              "      <td>Virginia</td>\n",
              "    </tr>\n",
              "  </tbody>\n",
              "</table>\n",
              "</div>\n",
              "      <button class=\"colab-df-convert\" onclick=\"convertToInteractive('df-3ad9af93-dcc9-4a22-b7d9-0e7733e40e89')\"\n",
              "              title=\"Convert this dataframe to an interactive table.\"\n",
              "              style=\"display:none;\">\n",
              "        \n",
              "  <svg xmlns=\"http://www.w3.org/2000/svg\" height=\"24px\"viewBox=\"0 0 24 24\"\n",
              "       width=\"24px\">\n",
              "    <path d=\"M0 0h24v24H0V0z\" fill=\"none\"/>\n",
              "    <path d=\"M18.56 5.44l.94 2.06.94-2.06 2.06-.94-2.06-.94-.94-2.06-.94 2.06-2.06.94zm-11 1L8.5 8.5l.94-2.06 2.06-.94-2.06-.94L8.5 2.5l-.94 2.06-2.06.94zm10 10l.94 2.06.94-2.06 2.06-.94-2.06-.94-.94-2.06-.94 2.06-2.06.94z\"/><path d=\"M17.41 7.96l-1.37-1.37c-.4-.4-.92-.59-1.43-.59-.52 0-1.04.2-1.43.59L10.3 9.45l-7.72 7.72c-.78.78-.78 2.05 0 2.83L4 21.41c.39.39.9.59 1.41.59.51 0 1.02-.2 1.41-.59l7.78-7.78 2.81-2.81c.8-.78.8-2.07 0-2.86zM5.41 20L4 18.59l7.72-7.72 1.47 1.35L5.41 20z\"/>\n",
              "  </svg>\n",
              "      </button>\n",
              "      \n",
              "  <style>\n",
              "    .colab-df-container {\n",
              "      display:flex;\n",
              "      flex-wrap:wrap;\n",
              "      gap: 12px;\n",
              "    }\n",
              "\n",
              "    .colab-df-convert {\n",
              "      background-color: #E8F0FE;\n",
              "      border: none;\n",
              "      border-radius: 50%;\n",
              "      cursor: pointer;\n",
              "      display: none;\n",
              "      fill: #1967D2;\n",
              "      height: 32px;\n",
              "      padding: 0 0 0 0;\n",
              "      width: 32px;\n",
              "    }\n",
              "\n",
              "    .colab-df-convert:hover {\n",
              "      background-color: #E2EBFA;\n",
              "      box-shadow: 0px 1px 2px rgba(60, 64, 67, 0.3), 0px 1px 3px 1px rgba(60, 64, 67, 0.15);\n",
              "      fill: #174EA6;\n",
              "    }\n",
              "\n",
              "    [theme=dark] .colab-df-convert {\n",
              "      background-color: #3B4455;\n",
              "      fill: #D2E3FC;\n",
              "    }\n",
              "\n",
              "    [theme=dark] .colab-df-convert:hover {\n",
              "      background-color: #434B5C;\n",
              "      box-shadow: 0px 1px 3px 1px rgba(0, 0, 0, 0.15);\n",
              "      filter: drop-shadow(0px 1px 2px rgba(0, 0, 0, 0.3));\n",
              "      fill: #FFFFFF;\n",
              "    }\n",
              "  </style>\n",
              "\n",
              "      <script>\n",
              "        const buttonEl =\n",
              "          document.querySelector('#df-3ad9af93-dcc9-4a22-b7d9-0e7733e40e89 button.colab-df-convert');\n",
              "        buttonEl.style.display =\n",
              "          google.colab.kernel.accessAllowed ? 'block' : 'none';\n",
              "\n",
              "        async function convertToInteractive(key) {\n",
              "          const element = document.querySelector('#df-3ad9af93-dcc9-4a22-b7d9-0e7733e40e89');\n",
              "          const dataTable =\n",
              "            await google.colab.kernel.invokeFunction('convertToInteractive',\n",
              "                                                     [key], {});\n",
              "          if (!dataTable) return;\n",
              "\n",
              "          const docLinkHtml = 'Like what you see? Visit the ' +\n",
              "            '<a target=\"_blank\" href=https://colab.research.google.com/notebooks/data_table.ipynb>data table notebook</a>'\n",
              "            + ' to learn more about interactive tables.';\n",
              "          element.innerHTML = '';\n",
              "          dataTable['output_type'] = 'display_data';\n",
              "          await google.colab.output.renderOutput(dataTable, element);\n",
              "          const docLink = document.createElement('div');\n",
              "          docLink.innerHTML = docLinkHtml;\n",
              "          element.appendChild(docLink);\n",
              "        }\n",
              "      </script>\n",
              "    </div>\n",
              "  </div>\n",
              "  "
            ]
          },
          "metadata": {},
          "execution_count": 4
        }
      ]
    },
    {
      "cell_type": "code",
      "source": [
        "df.columns"
      ],
      "metadata": {
        "colab": {
          "base_uri": "https://localhost:8080/"
        },
        "id": "8R-IHsbr6YeI",
        "outputId": "13f5e9bd-4fb1-4a92-8dd3-d8f90a12d50f"
      },
      "execution_count": 5,
      "outputs": [
        {
          "output_type": "execute_result",
          "data": {
            "text/plain": [
              "Index(['Presidency ', 'President ', 'Wikipedia Entry', 'Took office ',\n",
              "       'Left office ', 'Party ', 'Portrait', 'Thumbnail', 'Home State'],\n",
              "      dtype='object')"
            ]
          },
          "metadata": {},
          "execution_count": 5
        }
      ]
    },
    {
      "cell_type": "code",
      "source": [],
      "metadata": {
        "id": "rP0oMFLB6kuB"
      },
      "execution_count": null,
      "outputs": []
    }
  ]
}