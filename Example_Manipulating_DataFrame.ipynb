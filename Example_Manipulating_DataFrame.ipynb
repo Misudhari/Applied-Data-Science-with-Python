{
  "nbformat": 4,
  "nbformat_minor": 0,
  "metadata": {
    "colab": {
      "provenance": [],
      "authorship_tag": "ABX9TyObK008lR2h4mM38IGlIpDW",
      "include_colab_link": true
    },
    "kernelspec": {
      "name": "python3",
      "display_name": "Python 3"
    },
    "language_info": {
      "name": "python"
    }
  },
  "cells": [
    {
      "cell_type": "markdown",
      "metadata": {
        "id": "view-in-github",
        "colab_type": "text"
      },
      "source": [
        "<a href=\"https://colab.research.google.com/github/Misudhari/Applied-Data-Science-with-Python/blob/main/Example_Manipulating_DataFrame.ipynb\" target=\"_parent\"><img src=\"https://colab.research.google.com/assets/colab-badge.svg\" alt=\"Open In Colab\"/></a>"
      ]
    },
    {
      "cell_type": "code",
      "source": [
        "from google.colab import drive\n",
        "drive.mount('/content/drive')"
      ],
      "metadata": {
        "id": "ybytJ9LA44se",
        "colab": {
          "base_uri": "https://localhost:8080/"
        },
        "outputId": "d72108ad-7088-4675-891e-a31559e37faa"
      },
      "execution_count": 1,
      "outputs": [
        {
          "output_type": "stream",
          "name": "stdout",
          "text": [
            "Mounted at /content/drive\n"
          ]
        }
      ]
    },
    {
      "cell_type": "markdown",
      "source": [
        "#Basic Data Cleaning Process"
      ],
      "metadata": {
        "id": "udJC-5-j4a2x"
      }
    },
    {
      "cell_type": "code",
      "execution_count": 2,
      "metadata": {
        "id": "JCbS-DGj4QIF"
      },
      "outputs": [],
      "source": [
        "import pandas as pd"
      ]
    },
    {
      "cell_type": "code",
      "source": [
        "df = pd.read_csv('/content/drive/MyDrive/Datasets/US_presidents.csv')\n",
        "df.head()"
      ],
      "metadata": {
        "id": "NrcHlvBV4kej",
        "colab": {
          "base_uri": "https://localhost:8080/",
          "height": 354
        },
        "outputId": "0d8221f6-ed89-4ec0-f3e2-7829099da730"
      },
      "execution_count": 3,
      "outputs": [
        {
          "output_type": "execute_result",
          "data": {
            "text/plain": [
              "   #          President             Born      Age atstart of presidency  \\\n",
              "0  1  George Washington  Feb 22, 1732[a]  57 years, 67 daysApr 30, 1789   \n",
              "1  2         John Adams  Oct 30, 1735[a]  61 years, 125 daysMar 4, 1797   \n",
              "2  3   Thomas Jefferson  Apr 13, 1743[a]  57 years, 325 daysMar 4, 1801   \n",
              "3  4      James Madison  Mar 16, 1751[a]  57 years, 353 daysMar 4, 1809   \n",
              "4  5       James Monroe     Apr 28, 1758  58 years, 310 daysMar 4, 1817   \n",
              "\n",
              "         Age atend of presidency Post-presidencytimespan          Died  \\\n",
              "0   65 years, 10 daysMar 4, 1797       2 years, 285 days  Dec 14, 1799   \n",
              "1  65 years, 125 daysMar 4, 1801      25 years, 122 days   Jul 4, 1826   \n",
              "2  65 years, 325 daysMar 4, 1809      17 years, 122 days   Jul 4, 1826   \n",
              "3  65 years, 353 daysMar 4, 1817      19 years, 116 days  Jun 28, 1836   \n",
              "4  66 years, 310 daysMar 4, 1825       6 years, 122 days   Jul 4, 1831   \n",
              "\n",
              "                  Age  \n",
              "0  67 years, 295 days  \n",
              "1  90 years, 247 days  \n",
              "2   83 years, 82 days  \n",
              "3  85 years, 104 days  \n",
              "4   73 years, 67 days  "
            ],
            "text/html": [
              "\n",
              "  <div id=\"df-00a8b566-95c5-492d-8bc2-110a26d04363\">\n",
              "    <div class=\"colab-df-container\">\n",
              "      <div>\n",
              "<style scoped>\n",
              "    .dataframe tbody tr th:only-of-type {\n",
              "        vertical-align: middle;\n",
              "    }\n",
              "\n",
              "    .dataframe tbody tr th {\n",
              "        vertical-align: top;\n",
              "    }\n",
              "\n",
              "    .dataframe thead th {\n",
              "        text-align: right;\n",
              "    }\n",
              "</style>\n",
              "<table border=\"1\" class=\"dataframe\">\n",
              "  <thead>\n",
              "    <tr style=\"text-align: right;\">\n",
              "      <th></th>\n",
              "      <th>#</th>\n",
              "      <th>President</th>\n",
              "      <th>Born</th>\n",
              "      <th>Age atstart of presidency</th>\n",
              "      <th>Age atend of presidency</th>\n",
              "      <th>Post-presidencytimespan</th>\n",
              "      <th>Died</th>\n",
              "      <th>Age</th>\n",
              "    </tr>\n",
              "  </thead>\n",
              "  <tbody>\n",
              "    <tr>\n",
              "      <th>0</th>\n",
              "      <td>1</td>\n",
              "      <td>George Washington</td>\n",
              "      <td>Feb 22, 1732[a]</td>\n",
              "      <td>57 years, 67 daysApr 30, 1789</td>\n",
              "      <td>65 years, 10 daysMar 4, 1797</td>\n",
              "      <td>2 years, 285 days</td>\n",
              "      <td>Dec 14, 1799</td>\n",
              "      <td>67 years, 295 days</td>\n",
              "    </tr>\n",
              "    <tr>\n",
              "      <th>1</th>\n",
              "      <td>2</td>\n",
              "      <td>John Adams</td>\n",
              "      <td>Oct 30, 1735[a]</td>\n",
              "      <td>61 years, 125 daysMar 4, 1797</td>\n",
              "      <td>65 years, 125 daysMar 4, 1801</td>\n",
              "      <td>25 years, 122 days</td>\n",
              "      <td>Jul 4, 1826</td>\n",
              "      <td>90 years, 247 days</td>\n",
              "    </tr>\n",
              "    <tr>\n",
              "      <th>2</th>\n",
              "      <td>3</td>\n",
              "      <td>Thomas Jefferson</td>\n",
              "      <td>Apr 13, 1743[a]</td>\n",
              "      <td>57 years, 325 daysMar 4, 1801</td>\n",
              "      <td>65 years, 325 daysMar 4, 1809</td>\n",
              "      <td>17 years, 122 days</td>\n",
              "      <td>Jul 4, 1826</td>\n",
              "      <td>83 years, 82 days</td>\n",
              "    </tr>\n",
              "    <tr>\n",
              "      <th>3</th>\n",
              "      <td>4</td>\n",
              "      <td>James Madison</td>\n",
              "      <td>Mar 16, 1751[a]</td>\n",
              "      <td>57 years, 353 daysMar 4, 1809</td>\n",
              "      <td>65 years, 353 daysMar 4, 1817</td>\n",
              "      <td>19 years, 116 days</td>\n",
              "      <td>Jun 28, 1836</td>\n",
              "      <td>85 years, 104 days</td>\n",
              "    </tr>\n",
              "    <tr>\n",
              "      <th>4</th>\n",
              "      <td>5</td>\n",
              "      <td>James Monroe</td>\n",
              "      <td>Apr 28, 1758</td>\n",
              "      <td>58 years, 310 daysMar 4, 1817</td>\n",
              "      <td>66 years, 310 daysMar 4, 1825</td>\n",
              "      <td>6 years, 122 days</td>\n",
              "      <td>Jul 4, 1831</td>\n",
              "      <td>73 years, 67 days</td>\n",
              "    </tr>\n",
              "  </tbody>\n",
              "</table>\n",
              "</div>\n",
              "      <button class=\"colab-df-convert\" onclick=\"convertToInteractive('df-00a8b566-95c5-492d-8bc2-110a26d04363')\"\n",
              "              title=\"Convert this dataframe to an interactive table.\"\n",
              "              style=\"display:none;\">\n",
              "        \n",
              "  <svg xmlns=\"http://www.w3.org/2000/svg\" height=\"24px\"viewBox=\"0 0 24 24\"\n",
              "       width=\"24px\">\n",
              "    <path d=\"M0 0h24v24H0V0z\" fill=\"none\"/>\n",
              "    <path d=\"M18.56 5.44l.94 2.06.94-2.06 2.06-.94-2.06-.94-.94-2.06-.94 2.06-2.06.94zm-11 1L8.5 8.5l.94-2.06 2.06-.94-2.06-.94L8.5 2.5l-.94 2.06-2.06.94zm10 10l.94 2.06.94-2.06 2.06-.94-2.06-.94-.94-2.06-.94 2.06-2.06.94z\"/><path d=\"M17.41 7.96l-1.37-1.37c-.4-.4-.92-.59-1.43-.59-.52 0-1.04.2-1.43.59L10.3 9.45l-7.72 7.72c-.78.78-.78 2.05 0 2.83L4 21.41c.39.39.9.59 1.41.59.51 0 1.02-.2 1.41-.59l7.78-7.78 2.81-2.81c.8-.78.8-2.07 0-2.86zM5.41 20L4 18.59l7.72-7.72 1.47 1.35L5.41 20z\"/>\n",
              "  </svg>\n",
              "      </button>\n",
              "      \n",
              "  <style>\n",
              "    .colab-df-container {\n",
              "      display:flex;\n",
              "      flex-wrap:wrap;\n",
              "      gap: 12px;\n",
              "    }\n",
              "\n",
              "    .colab-df-convert {\n",
              "      background-color: #E8F0FE;\n",
              "      border: none;\n",
              "      border-radius: 50%;\n",
              "      cursor: pointer;\n",
              "      display: none;\n",
              "      fill: #1967D2;\n",
              "      height: 32px;\n",
              "      padding: 0 0 0 0;\n",
              "      width: 32px;\n",
              "    }\n",
              "\n",
              "    .colab-df-convert:hover {\n",
              "      background-color: #E2EBFA;\n",
              "      box-shadow: 0px 1px 2px rgba(60, 64, 67, 0.3), 0px 1px 3px 1px rgba(60, 64, 67, 0.15);\n",
              "      fill: #174EA6;\n",
              "    }\n",
              "\n",
              "    [theme=dark] .colab-df-convert {\n",
              "      background-color: #3B4455;\n",
              "      fill: #D2E3FC;\n",
              "    }\n",
              "\n",
              "    [theme=dark] .colab-df-convert:hover {\n",
              "      background-color: #434B5C;\n",
              "      box-shadow: 0px 1px 3px 1px rgba(0, 0, 0, 0.15);\n",
              "      filter: drop-shadow(0px 1px 2px rgba(0, 0, 0, 0.3));\n",
              "      fill: #FFFFFF;\n",
              "    }\n",
              "  </style>\n",
              "\n",
              "      <script>\n",
              "        const buttonEl =\n",
              "          document.querySelector('#df-00a8b566-95c5-492d-8bc2-110a26d04363 button.colab-df-convert');\n",
              "        buttonEl.style.display =\n",
              "          google.colab.kernel.accessAllowed ? 'block' : 'none';\n",
              "\n",
              "        async function convertToInteractive(key) {\n",
              "          const element = document.querySelector('#df-00a8b566-95c5-492d-8bc2-110a26d04363');\n",
              "          const dataTable =\n",
              "            await google.colab.kernel.invokeFunction('convertToInteractive',\n",
              "                                                     [key], {});\n",
              "          if (!dataTable) return;\n",
              "\n",
              "          const docLinkHtml = 'Like what you see? Visit the ' +\n",
              "            '<a target=\"_blank\" href=https://colab.research.google.com/notebooks/data_table.ipynb>data table notebook</a>'\n",
              "            + ' to learn more about interactive tables.';\n",
              "          element.innerHTML = '';\n",
              "          dataTable['output_type'] = 'display_data';\n",
              "          await google.colab.output.renderOutput(dataTable, element);\n",
              "          const docLink = document.createElement('div');\n",
              "          docLink.innerHTML = docLinkHtml;\n",
              "          element.appendChild(docLink);\n",
              "        }\n",
              "      </script>\n",
              "    </div>\n",
              "  </div>\n",
              "  "
            ]
          },
          "metadata": {},
          "execution_count": 3
        }
      ]
    },
    {
      "cell_type": "code",
      "source": [
        "df.columns"
      ],
      "metadata": {
        "colab": {
          "base_uri": "https://localhost:8080/"
        },
        "id": "8R-IHsbr6YeI",
        "outputId": "49a31047-4799-4487-bc83-91fd753f4d17"
      },
      "execution_count": 4,
      "outputs": [
        {
          "output_type": "execute_result",
          "data": {
            "text/plain": [
              "Index(['#', 'President', 'Born', 'Age atstart of presidency',\n",
              "       'Age atend of presidency', 'Post-presidencytimespan', 'Died', 'Age'],\n",
              "      dtype='object')"
            ]
          },
          "metadata": {},
          "execution_count": 4
        }
      ]
    },
    {
      "cell_type": "code",
      "source": [],
      "metadata": {
        "id": "rP0oMFLB6kuB"
      },
      "execution_count": null,
      "outputs": []
    }
  ]
}