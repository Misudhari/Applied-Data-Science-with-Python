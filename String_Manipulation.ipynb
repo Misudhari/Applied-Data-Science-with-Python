{
  "nbformat": 4,
  "nbformat_minor": 0,
  "metadata": {
    "colab": {
      "provenance": [],
      "authorship_tag": "ABX9TyP2IHNtmNAW/5lkKZdawDmN",
      "include_colab_link": true
    },
    "kernelspec": {
      "name": "python3",
      "display_name": "Python 3"
    },
    "language_info": {
      "name": "python"
    }
  },
  "cells": [
    {
      "cell_type": "markdown",
      "metadata": {
        "id": "view-in-github",
        "colab_type": "text"
      },
      "source": [
        "<a href=\"https://colab.research.google.com/github/Misudhari/Applied-Data-Science-with-Python/blob/main/String_Manipulation.ipynb\" target=\"_parent\"><img src=\"https://colab.research.google.com/assets/colab-badge.svg\" alt=\"Open In Colab\"/></a>"
      ]
    },
    {
      "cell_type": "code",
      "execution_count": 2,
      "metadata": {
        "colab": {
          "base_uri": "https://localhost:8080/"
        },
        "id": "cVkgJz0IBvT2",
        "outputId": "6b1fd649-7fb8-4252-f0ea-0ed6f290d8ed"
      },
      "outputs": [
        {
          "output_type": "stream",
          "name": "stdout",
          "text": [
            "Christopher Brooks\n",
            "ChristopherChristopherChristopher\n",
            "True\n"
          ]
        }
      ],
      "source": [
        "firstname = \"Christopher\"\n",
        "lastname = \"Brooks\"\n",
        "\n",
        "print(firstname + \" \" + lastname)\n",
        "print(firstname * 3)\n",
        "a = 'Chris' in firstname\n",
        "print(a)"
      ]
    },
    {
      "cell_type": "code",
      "source": [
        "firstname = 'Christopher Arthur Hansen Brooks'.split(' ')[0]\n",
        "lastname = 'Christopher Arthur Hansen Brooks'.split(' ')[-1]\n",
        "print(firstname)\n",
        "print(lastname)"
      ],
      "metadata": {
        "colab": {
          "base_uri": "https://localhost:8080/"
        },
        "id": "zxJ949RzCMTU",
        "outputId": "ba570866-de3e-46b8-a7ce-7c03a778cd24"
      },
      "execution_count": 3,
      "outputs": [
        {
          "output_type": "stream",
          "name": "stdout",
          "text": [
            "Christopher\n",
            "Brooks\n"
          ]
        }
      ]
    },
    {
      "cell_type": "code",
      "source": [
        "x = {'Christopher Brooks' : 'brooksch@unmich.edu', 'Bill Gates' : 'billg@microsoft.com'}\n",
        "x['Christopher Brooks']"
      ],
      "metadata": {
        "colab": {
          "base_uri": "https://localhost:8080/",
          "height": 36
        },
        "id": "N_2Pn2LKDEDM",
        "outputId": "d2f8e64d-f56f-47f5-f87b-99011e50c3be"
      },
      "execution_count": 4,
      "outputs": [
        {
          "output_type": "execute_result",
          "data": {
            "text/plain": [
              "'brooksch@unmich.edu'"
            ],
            "application/vnd.google.colaboratory.intrinsic+json": {
              "type": "string"
            }
          },
          "metadata": {},
          "execution_count": 4
        }
      ]
    },
    {
      "cell_type": "code",
      "source": [
        "for name in x:\n",
        "  print(x[name])\n",
        "\n",
        "print(x)"
      ],
      "metadata": {
        "colab": {
          "base_uri": "https://localhost:8080/"
        },
        "id": "kF1tTz6mEAW3",
        "outputId": "bb93c184-a458-4cf8-c5dd-2d9cd007c6ea"
      },
      "execution_count": 9,
      "outputs": [
        {
          "output_type": "stream",
          "name": "stdout",
          "text": [
            "brooksch@unmich.edu\n",
            "billg@microsoft.com\n",
            "None\n",
            "{'Christopher Brooks': 'brooksch@unmich.edu', 'Bill Gates': 'billg@microsoft.com', 'Kevyn Collins-Thompson': None}\n"
          ]
        }
      ]
    },
    {
      "cell_type": "code",
      "source": [
        "for email in x.values():\n",
        "  print(email)"
      ],
      "metadata": {
        "colab": {
          "base_uri": "https://localhost:8080/"
        },
        "id": "GW3k5VEtEUvI",
        "outputId": "43fc9e20-e35a-4e7c-8145-87636fb29fe8"
      },
      "execution_count": 10,
      "outputs": [
        {
          "output_type": "stream",
          "name": "stdout",
          "text": [
            "brooksch@unmich.edu\n",
            "billg@microsoft.com\n",
            "None\n"
          ]
        }
      ]
    },
    {
      "cell_type": "code",
      "source": [
        "for name, email in x.items():\n",
        "  print(name)\n",
        "  print(email)"
      ],
      "metadata": {
        "colab": {
          "base_uri": "https://localhost:8080/"
        },
        "id": "p9VZqVWUE5oH",
        "outputId": "ee0003fd-a222-428b-9dd4-1a8e8f17707e"
      },
      "execution_count": 14,
      "outputs": [
        {
          "output_type": "stream",
          "name": "stdout",
          "text": [
            "Christopher Brooks\n",
            "brooksch@unmich.edu\n",
            "Bill Gates\n",
            "billg@microsoft.com\n",
            "Kevyn Collins-Thompson\n",
            "None\n"
          ]
        }
      ]
    },
    {
      "cell_type": "code",
      "source": [
        "x = ('Mithilesh', 'Chauudhari', 'misuchaudhari252gmail.com')\n",
        "fname, lname, email = x"
      ],
      "metadata": {
        "id": "Rpd1ClTHFHhp"
      },
      "execution_count": 16,
      "outputs": []
    },
    {
      "cell_type": "code",
      "source": [
        "fname"
      ],
      "metadata": {
        "colab": {
          "base_uri": "https://localhost:8080/",
          "height": 36
        },
        "id": "1eKOmOECFjWF",
        "outputId": "d3097a16-b4a6-4f69-d4dc-746aebd26de6"
      },
      "execution_count": 17,
      "outputs": [
        {
          "output_type": "execute_result",
          "data": {
            "text/plain": [
              "'Mithilesh'"
            ],
            "application/vnd.google.colaboratory.intrinsic+json": {
              "type": "string"
            }
          },
          "metadata": {},
          "execution_count": 17
        }
      ]
    },
    {
      "cell_type": "code",
      "source": [
        "lname"
      ],
      "metadata": {
        "colab": {
          "base_uri": "https://localhost:8080/",
          "height": 36
        },
        "id": "EvA4ZS4-FpQY",
        "outputId": "b51c5297-2ec7-48ff-f05e-bc427b0b4137"
      },
      "execution_count": 20,
      "outputs": [
        {
          "output_type": "execute_result",
          "data": {
            "text/plain": [
              "'Chauudhari'"
            ],
            "application/vnd.google.colaboratory.intrinsic+json": {
              "type": "string"
            }
          },
          "metadata": {},
          "execution_count": 20
        }
      ]
    },
    {
      "cell_type": "code",
      "source": [
        "email"
      ],
      "metadata": {
        "colab": {
          "base_uri": "https://localhost:8080/",
          "height": 36
        },
        "id": "h9iilL7FFp2y",
        "outputId": "1ede7900-7527-48eb-a946-ccc80270d4f3"
      },
      "execution_count": 21,
      "outputs": [
        {
          "output_type": "execute_result",
          "data": {
            "text/plain": [
              "'misuchaudhari252gmail.com'"
            ],
            "application/vnd.google.colaboratory.intrinsic+json": {
              "type": "string"
            }
          },
          "metadata": {},
          "execution_count": 21
        }
      ]
    },
    {
      "cell_type": "code",
      "source": [
        "print('Mithi' + 2)"
      ],
      "metadata": {
        "colab": {
          "base_uri": "https://localhost:8080/",
          "height": 165
        },
        "id": "DiRPGcKVFujQ",
        "outputId": "899f4a29-bd42-49c4-b607-46010720e023"
      },
      "execution_count": 22,
      "outputs": [
        {
          "output_type": "error",
          "ename": "TypeError",
          "evalue": "ignored",
          "traceback": [
            "\u001b[0;31m---------------------------------------------------------------------------\u001b[0m",
            "\u001b[0;31mTypeError\u001b[0m                                 Traceback (most recent call last)",
            "\u001b[0;32m<ipython-input-22-a30bfe08447a>\u001b[0m in \u001b[0;36m<module>\u001b[0;34m\u001b[0m\n\u001b[0;32m----> 1\u001b[0;31m \u001b[0mprint\u001b[0m\u001b[0;34m(\u001b[0m\u001b[0;34m'Mithi'\u001b[0m \u001b[0;34m+\u001b[0m \u001b[0;36m2\u001b[0m\u001b[0;34m)\u001b[0m\u001b[0;34m\u001b[0m\u001b[0;34m\u001b[0m\u001b[0m\n\u001b[0m",
            "\u001b[0;31mTypeError\u001b[0m: can only concatenate str (not \"int\") to str"
          ]
        }
      ]
    },
    {
      "cell_type": "code",
      "source": [
        "print('Mithi' + str(2))"
      ],
      "metadata": {
        "colab": {
          "base_uri": "https://localhost:8080/"
        },
        "id": "EUhhHl-2GgQ0",
        "outputId": "8e46afba-e6fc-41cf-87e0-9e116de77588"
      },
      "execution_count": 23,
      "outputs": [
        {
          "output_type": "stream",
          "name": "stdout",
          "text": [
            "Mithi2\n"
          ]
        }
      ]
    },
    {
      "cell_type": "code",
      "source": [
        "sales_record = {\n",
        "    'price'    : 3.24,\n",
        "    'num_items' : 4,\n",
        "    'person'    : 'Chris'\n",
        "}\n",
        "\n",
        "sales_statement = '{} baught {} item(s) at a price of {} each for a total of {}'\n",
        "\n",
        "print(sales_statement.format(sales_record['person'],\n",
        "                             sales_record['num_items'],\n",
        "                             sales_record['price'],\n",
        "                             sales_record['num_items']*sales_record['price']))"
      ],
      "metadata": {
        "colab": {
          "base_uri": "https://localhost:8080/"
        },
        "id": "AG5ZpHABGlPp",
        "outputId": "54a15f8c-3117-4bbb-93c1-781c89b9502b"
      },
      "execution_count": 24,
      "outputs": [
        {
          "output_type": "stream",
          "name": "stdout",
          "text": [
            "Chris baught 4 item(s) at a price of 3.24 each for a total of 12.96\n"
          ]
        }
      ]
    },
    {
      "cell_type": "code",
      "source": [],
      "metadata": {
        "id": "71KBV-sVISQk"
      },
      "execution_count": null,
      "outputs": []
    }
  ]
}