{
  "nbformat": 4,
  "nbformat_minor": 0,
  "metadata": {
    "colab": {
      "provenance": [],
      "mount_file_id": "1CIq7kQ-WUn_CRo5svIyE-CcVmc9VOLpK",
      "authorship_tag": "ABX9TyN8PemgAHWmJYkrp6/543wk",
      "include_colab_link": true
    },
    "kernelspec": {
      "name": "python3",
      "display_name": "Python 3"
    },
    "language_info": {
      "name": "python"
    }
  },
  "cells": [
    {
      "cell_type": "markdown",
      "metadata": {
        "id": "view-in-github",
        "colab_type": "text"
      },
      "source": [
        "<a href=\"https://colab.research.google.com/github/Misudhari/Applied-Data-Science-with-Python/blob/main/Regular_Expressions_Regex.ipynb\" target=\"_parent\"><img src=\"https://colab.research.google.com/assets/colab-badge.svg\" alt=\"Open In Colab\"/></a>"
      ]
    },
    {
      "cell_type": "code",
      "source": [],
      "metadata": {
        "id": "0z9s0YT3nPvX"
      },
      "execution_count": null,
      "outputs": []
    },
    {
      "cell_type": "code",
      "execution_count": 1,
      "metadata": {
        "id": "Y1ZSKTxxfTSs"
      },
      "outputs": [],
      "source": [
        "import re"
      ]
    },
    {
      "cell_type": "code",
      "source": [
        "text = 'This is a good Day!!!'\n",
        "\n",
        "if re.search(\"good\", text):\n",
        "  print(\"Wonderful!\")\n",
        "else:\n",
        "  print(\"Alas :(\")"
      ],
      "metadata": {
        "colab": {
          "base_uri": "https://localhost:8080/"
        },
        "id": "vH8QZLOdfo-h",
        "outputId": "8abbbd87-b26f-4a9d-b3ea-72355d151e7b"
      },
      "execution_count": 2,
      "outputs": [
        {
          "output_type": "stream",
          "name": "stdout",
          "text": [
            "Wonderful!\n"
          ]
        }
      ]
    },
    {
      "cell_type": "code",
      "source": [
        "text = 'Amy Works deligently. Amy gets good grades. Our student Amy is successful'\n",
        "\n",
        "re.split('Amy', text)"
      ],
      "metadata": {
        "colab": {
          "base_uri": "https://localhost:8080/"
        },
        "id": "_PzOcfrWgI9g",
        "outputId": "edad3fd5-9765-4c81-9a11-014dc5a5c2d2"
      },
      "execution_count": 3,
      "outputs": [
        {
          "output_type": "execute_result",
          "data": {
            "text/plain": [
              "['',\n",
              " ' Works deligently. ',\n",
              " ' gets good grades. Our student ',\n",
              " ' is successful']"
            ]
          },
          "metadata": {},
          "execution_count": 3
        }
      ]
    },
    {
      "cell_type": "code",
      "source": [
        "re.findall('Amy', text)"
      ],
      "metadata": {
        "colab": {
          "base_uri": "https://localhost:8080/"
        },
        "id": "Kgw2jVk0gjs6",
        "outputId": "033a7503-41b8-4393-a359-3f186f439d03"
      },
      "execution_count": 5,
      "outputs": [
        {
          "output_type": "execute_result",
          "data": {
            "text/plain": [
              "['Amy', 'Amy', 'Amy']"
            ]
          },
          "metadata": {},
          "execution_count": 5
        }
      ]
    },
    {
      "cell_type": "code",
      "source": [
        "text = 'Amy Works deligently. Amy gets good grades. Our student Amy is successful'\n",
        "\n",
        "re.search('^Amy', text)"
      ],
      "metadata": {
        "colab": {
          "base_uri": "https://localhost:8080/"
        },
        "id": "emQpC4hvgpwN",
        "outputId": "6e48bc09-85d5-4d8d-831c-29b4910adcd8"
      },
      "execution_count": 6,
      "outputs": [
        {
          "output_type": "execute_result",
          "data": {
            "text/plain": [
              "<re.Match object; span=(0, 3), match='Amy'>"
            ]
          },
          "metadata": {},
          "execution_count": 6
        }
      ]
    },
    {
      "cell_type": "markdown",
      "source": [
        "#Patterns and Character Classes"
      ],
      "metadata": {
        "id": "0SC7ewfAhJ6o"
      }
    },
    {
      "cell_type": "code",
      "source": [
        "Grades = 'ACAABAACBCBAABAAAA'\n",
        "\n",
        "re.findall('B', Grades)"
      ],
      "metadata": {
        "colab": {
          "base_uri": "https://localhost:8080/"
        },
        "id": "1wBLRr2BhBUP",
        "outputId": "494ccf62-abe0-4c96-b26e-9e3292376940"
      },
      "execution_count": 17,
      "outputs": [
        {
          "output_type": "execute_result",
          "data": {
            "text/plain": [
              "['B', 'B', 'B', 'B']"
            ]
          },
          "metadata": {},
          "execution_count": 17
        }
      ]
    },
    {
      "cell_type": "code",
      "source": [
        "re.findall('[AB]', Grades)"
      ],
      "metadata": {
        "colab": {
          "base_uri": "https://localhost:8080/"
        },
        "id": "i0EDPSBZhdJR",
        "outputId": "3015f0aa-75b2-414f-82b9-ab96569ffa41"
      },
      "execution_count": 18,
      "outputs": [
        {
          "output_type": "execute_result",
          "data": {
            "text/plain": [
              "['A', 'A', 'A', 'B', 'A', 'A', 'B', 'B', 'A', 'A', 'B', 'A', 'A', 'A', 'A']"
            ]
          },
          "metadata": {},
          "execution_count": 18
        }
      ]
    },
    {
      "cell_type": "code",
      "source": [
        "re.findall('[A][B-C]', Grades)"
      ],
      "metadata": {
        "colab": {
          "base_uri": "https://localhost:8080/"
        },
        "id": "WJlKIhEThuoo",
        "outputId": "7d86b72a-4ebf-4700-91de-0efd91b5d172"
      },
      "execution_count": 19,
      "outputs": [
        {
          "output_type": "execute_result",
          "data": {
            "text/plain": [
              "['AC', 'AB', 'AC', 'AB']"
            ]
          },
          "metadata": {},
          "execution_count": 19
        }
      ]
    },
    {
      "cell_type": "code",
      "source": [
        "re.findall('AB|AC', Grades)"
      ],
      "metadata": {
        "colab": {
          "base_uri": "https://localhost:8080/"
        },
        "id": "J7q-bmyuiAMI",
        "outputId": "db1a0300-1649-406a-9754-36a7dd8bcf07"
      },
      "execution_count": 20,
      "outputs": [
        {
          "output_type": "execute_result",
          "data": {
            "text/plain": [
              "['AC', 'AB', 'AC', 'AB']"
            ]
          },
          "metadata": {},
          "execution_count": 20
        }
      ]
    },
    {
      "cell_type": "code",
      "source": [
        "re.findall('[^A]', Grades)"
      ],
      "metadata": {
        "colab": {
          "base_uri": "https://localhost:8080/"
        },
        "id": "sS3Zo-JiiOBi",
        "outputId": "667405c9-e5ba-42f3-ab74-fdcb8398b9e8"
      },
      "execution_count": 21,
      "outputs": [
        {
          "output_type": "execute_result",
          "data": {
            "text/plain": [
              "['C', 'B', 'C', 'B', 'C', 'B', 'B']"
            ]
          },
          "metadata": {},
          "execution_count": 21
        }
      ]
    },
    {
      "cell_type": "code",
      "source": [
        "re.findall('^[^A]', Grades)"
      ],
      "metadata": {
        "colab": {
          "base_uri": "https://localhost:8080/"
        },
        "id": "yFyEfqkSiXWT",
        "outputId": "f1406695-786b-4e55-9fff-0001a652e6ac"
      },
      "execution_count": 22,
      "outputs": [
        {
          "output_type": "execute_result",
          "data": {
            "text/plain": [
              "[]"
            ]
          },
          "metadata": {},
          "execution_count": 22
        }
      ]
    },
    {
      "cell_type": "markdown",
      "source": [
        "#Quantifiers"
      ],
      "metadata": {
        "id": "vpPnh_Auixxg"
      }
    },
    {
      "cell_type": "code",
      "source": [
        "re.findall('A{2,10}', Grades)"
      ],
      "metadata": {
        "colab": {
          "base_uri": "https://localhost:8080/"
        },
        "id": "1MDx_J5siomv",
        "outputId": "485e6d37-c154-476e-fe7a-9137bf1c32b9"
      },
      "execution_count": 23,
      "outputs": [
        {
          "output_type": "execute_result",
          "data": {
            "text/plain": [
              "['AA', 'AA', 'AA', 'AAAA']"
            ]
          },
          "metadata": {},
          "execution_count": 23
        }
      ]
    },
    {
      "cell_type": "code",
      "source": [
        "re.findall('A{1,1}A{1,1}', Grades)"
      ],
      "metadata": {
        "colab": {
          "base_uri": "https://localhost:8080/"
        },
        "id": "4HV00LV6jJyw",
        "outputId": "46d038a3-cdbc-4080-d12a-02e973606036"
      },
      "execution_count": 24,
      "outputs": [
        {
          "output_type": "execute_result",
          "data": {
            "text/plain": [
              "['AA', 'AA', 'AA', 'AA', 'AA']"
            ]
          },
          "metadata": {},
          "execution_count": 24
        }
      ]
    },
    {
      "cell_type": "code",
      "source": [
        "re.findall('A{2}', Grades)"
      ],
      "metadata": {
        "colab": {
          "base_uri": "https://localhost:8080/"
        },
        "id": "k6cOur1KjZxn",
        "outputId": "93030ad7-939c-453a-bdd7-1f35283f216e"
      },
      "execution_count": 25,
      "outputs": [
        {
          "output_type": "execute_result",
          "data": {
            "text/plain": [
              "['AA', 'AA', 'AA', 'AA', 'AA']"
            ]
          },
          "metadata": {},
          "execution_count": 25
        }
      ]
    },
    {
      "cell_type": "code",
      "source": [
        "re.findall('A{1,10}B{1,10}C{1,10}', Grades)"
      ],
      "metadata": {
        "colab": {
          "base_uri": "https://localhost:8080/"
        },
        "id": "eW4BD68jj7OV",
        "outputId": "78ac1e58-cfc3-4891-f115-a4e151b84724"
      },
      "execution_count": 26,
      "outputs": [
        {
          "output_type": "execute_result",
          "data": {
            "text/plain": [
              "[]"
            ]
          },
          "metadata": {},
          "execution_count": 26
        }
      ]
    },
    {
      "cell_type": "code",
      "source": [
        "with open('/content/drive/MyDrive/Datasets/ferpa.txt', 'r') as file:\n",
        "  wiki = file.read()\n",
        "\n",
        "wiki"
      ],
      "metadata": {
        "colab": {
          "base_uri": "https://localhost:8080/",
          "height": 123
        },
        "id": "xt33NAPCkGVB",
        "outputId": "1807ceaa-d56c-4969-926f-5e2624203f7b"
      },
      "execution_count": 28,
      "outputs": [
        {
          "output_type": "execute_result",
          "data": {
            "text/plain": [
              "'Family Educational Rights and Privacy Act\\n\\nThe Family Educational Rights and Privacy Act of 1974 (FERPA or the Buckley Amendment) is a United States federal law that governs the access to educational information and records by public entities such as potential employers, publicly funded educational institutions, and foreign governments. The act is also referred to as the Buckley Amendment, for one of its proponents, Senator James L. Buckley of New York.\\n\\nOverview[edit]\\nFERPA gives parents access to their child\\'s education records, an opportunity to seek to have the records amended, and some control over the disclosure of information from the records. With several exceptions, schools must have a student\\'s consent prior to the disclosure of education records after that student is 18 years old. The law applies only to educational agencies and institutions that receive funds under a program administered by the U.S. Department of Education.\\n\\nOther regulations under this Act, effective starting January 3, 2012, allow for greater disclosures of personal and directory student identifying information and regulate disclosure of student IDs and e-mail addresses. For example, schools may provide external companies with a student\\'s personally identifiable information without the student\\'s consent. Conversely, tying student directory information to other information may result in a violation, as the combination creates an education record.\\n\\nExamples of situations affected by FERPA include school employees divulging information to anyone other than the student about the student\\'s grades or behavior, and school work posted on a bulletin board with a grade. Generally, schools must have written permission from the parent or eligible student in order to release any information from a student\\'s education record.\\n\\nThis privacy policy also governs how state agencies transmit testing data to federal agencies, such as the Education Data Exchange Network.\\n\\nThis U.S. federal law also gave students 18 years of age or older, or students of any age if enrolled in any post-secondary educational institution, the right of privacy regarding grades, enrollment, and even billing information unless the school has specific permission from the student to share that specific type of information.\\n\\nFERPA also permits a school to disclose personally identifiable information from education records of an \"eligible student\" (a student age 18 or older or enrolled in a postsecondary institution at any age) to his or her parents if the student is a dependent \"student\" as that term is defined in Section 152 of the Internal Revenue Code. Generally, if either parent has claimed the student as a dependent on the parent\\'s most recent U.S. Federal income tax return, the school may non-consensually disclose the student\\'s education records to both parents.\\n\\nThe law allowed students who apply to an educational institution such as graduate school permission to view recommendations submitted by others as part of the application. On standard application forms, students are given the option to waive this right.\\n\\nFERPA specifically excludes employees of an educational institution if they are not students.\\n\\nFERPA is now a guide to communicating higher education issues and privacy issues that include sexual assault and campus safety. It provides a framework on addressing needs of certain populations in higher education.\\n\\nAccess to public records[edit]\\nThe citing of FERPA to conceal public records that are not \"educational\" in nature has been widely criticized, including criticism by the Act\\'s primary Senate sponsor. For example, in the Owasso Independent School District v. Falvo case, an important part of the debate was determining the relationship between peer-grading and \"education records\" as defined in FERPA. The plaintiffs argued \"that allowing students to score each other\\'s tests [...] as the teachers explain the correct answers to the entire class [...] embarrassed [...] children\", but they lost in a summary judgment by the district court. The Court of Appeals, ruled that students placing grades on the work of other students made such work into an \"education record.\" Thus, peer-grading was determined as a violation of FERPA privacy policies because students had access to other students\\' academic performance without full consent. However, on appeal to the Supreme Court, it was unanimously ruled that peer-grading was not a violation of FERPA. This is because a grade written on a student\\'s work does not become an \"education record\" until the teacher writes the final grade into a grade book.\\n\\nStudent medical records[edit]\\nLegal experts have debated the issue of whether student medical records (e.g. records of therapy sessions with a therapist at an on-campus counseling center) might be released to the school administration under certain triggering events, such as when a student sued his college or university.\\n\\nUsually, student medical treatment records will remain under the protection of FERPA, not the Health Insurance Portability and Accountability Act (HIPAA). This is due to the \"FERPA Exception\" written within HIPAA'"
            ],
            "application/vnd.google.colaboratory.intrinsic+json": {
              "type": "string"
            }
          },
          "metadata": {},
          "execution_count": 28
        }
      ]
    },
    {
      "cell_type": "code",
      "source": [
        "re.findall(\"[a-zA-Z]{1,100}\\[edit\\]\", wiki)"
      ],
      "metadata": {
        "colab": {
          "base_uri": "https://localhost:8080/"
        },
        "id": "7gFdBupvntqE",
        "outputId": "15ad8f20-b1a0-4330-bb3f-f8a0d9eb9aa8"
      },
      "execution_count": 29,
      "outputs": [
        {
          "output_type": "execute_result",
          "data": {
            "text/plain": [
              "['Overview[edit]', 'records[edit]', 'records[edit]']"
            ]
          },
          "metadata": {},
          "execution_count": 29
        }
      ]
    },
    {
      "cell_type": "code",
      "source": [
        "re.findall(\"[\\w]{1,100}\\[edit\\]\",wiki)"
      ],
      "metadata": {
        "colab": {
          "base_uri": "https://localhost:8080/"
        },
        "id": "fsBOYU9yoInZ",
        "outputId": "9ecf8c33-5da8-495d-87c4-fba7b549afb3"
      },
      "execution_count": 30,
      "outputs": [
        {
          "output_type": "execute_result",
          "data": {
            "text/plain": [
              "['Overview[edit]', 'records[edit]', 'records[edit]']"
            ]
          },
          "metadata": {},
          "execution_count": 30
        }
      ]
    },
    {
      "cell_type": "code",
      "source": [
        "re.findall(\"[\\w]*\\[edit\\]\", wiki)"
      ],
      "metadata": {
        "colab": {
          "base_uri": "https://localhost:8080/"
        },
        "id": "FUWpcMIjoaOW",
        "outputId": "09ee178c-d330-4c8f-95ca-8711d7c830d3"
      },
      "execution_count": 31,
      "outputs": [
        {
          "output_type": "execute_result",
          "data": {
            "text/plain": [
              "['Overview[edit]', 'records[edit]', 'records[edit]']"
            ]
          },
          "metadata": {},
          "execution_count": 31
        }
      ]
    },
    {
      "cell_type": "code",
      "source": [
        "titles = re.findall(\"[\\w ]*\\[edit\\]\", wiki)\n",
        "titles"
      ],
      "metadata": {
        "colab": {
          "base_uri": "https://localhost:8080/"
        },
        "id": "WYV7hL8qot6e",
        "outputId": "cd40b12a-2836-44f5-c9b2-71fca726ee12"
      },
      "execution_count": 34,
      "outputs": [
        {
          "output_type": "execute_result",
          "data": {
            "text/plain": [
              "['Overview[edit]',\n",
              " 'Access to public records[edit]',\n",
              " 'Student medical records[edit]']"
            ]
          },
          "metadata": {},
          "execution_count": 34
        }
      ]
    },
    {
      "cell_type": "code",
      "source": [
        "for title in titles:\n",
        "  print(re.split(\"[\\[]\", title)[0])"
      ],
      "metadata": {
        "colab": {
          "base_uri": "https://localhost:8080/"
        },
        "id": "fNPy7oZxpDrK",
        "outputId": "db4e6301-a980-4aa1-b10c-5039b6fed98a"
      },
      "execution_count": 35,
      "outputs": [
        {
          "output_type": "stream",
          "name": "stdout",
          "text": [
            "Overview\n",
            "Access to public records\n",
            "Student medical records\n"
          ]
        }
      ]
    },
    {
      "cell_type": "markdown",
      "source": [
        "#Groups"
      ],
      "metadata": {
        "id": "9I4UokY2pnMf"
      }
    },
    {
      "cell_type": "code",
      "source": [
        "re.findall(\"([\\w ]*)(\\[edit\\])\", wiki)"
      ],
      "metadata": {
        "colab": {
          "base_uri": "https://localhost:8080/"
        },
        "id": "5tiXlPjOphsl",
        "outputId": "ac10979b-68bd-4bae-df39-34c2e4b3ee8d"
      },
      "execution_count": 36,
      "outputs": [
        {
          "output_type": "execute_result",
          "data": {
            "text/plain": [
              "[('Overview', '[edit]'),\n",
              " ('Access to public records', '[edit]'),\n",
              " ('Student medical records', '[edit]')]"
            ]
          },
          "metadata": {},
          "execution_count": 36
        }
      ]
    },
    {
      "cell_type": "code",
      "source": [
        "for item in re.finditer(\"([\\w ]*)(\\[edit\\])\", wiki):\n",
        "  print(item.groups())"
      ],
      "metadata": {
        "colab": {
          "base_uri": "https://localhost:8080/"
        },
        "id": "YVYpS1mwp-zC",
        "outputId": "56ee6b4a-1f20-40b0-e8e3-0f1943295ea7"
      },
      "execution_count": 37,
      "outputs": [
        {
          "output_type": "stream",
          "name": "stdout",
          "text": [
            "('Overview', '[edit]')\n",
            "('Access to public records', '[edit]')\n",
            "('Student medical records', '[edit]')\n"
          ]
        }
      ]
    },
    {
      "cell_type": "code",
      "source": [
        "for item in re.finditer(\"([\\w ]*)(\\[edit\\])\",wiki):\n",
        "  print(item.group(1))"
      ],
      "metadata": {
        "colab": {
          "base_uri": "https://localhost:8080/"
        },
        "id": "iiLe8Bhmqxb7",
        "outputId": "79e66bb6-5732-4b3b-d091-1d6335a87324"
      },
      "execution_count": 38,
      "outputs": [
        {
          "output_type": "stream",
          "name": "stdout",
          "text": [
            "Overview\n",
            "Access to public records\n",
            "Student medical records\n"
          ]
        }
      ]
    },
    {
      "cell_type": "code",
      "source": [
        "for item in re.finditer(\"(?P<title>[\\w ]*)(?P<edit_link>\\[edit\\])\",wiki):\n",
        "  print(item.groupdict()['title'])"
      ],
      "metadata": {
        "colab": {
          "base_uri": "https://localhost:8080/"
        },
        "id": "qNsvGeRorH7U",
        "outputId": "0ed97dc9-defe-4bf7-8884-c658e932a5b7"
      },
      "execution_count": 40,
      "outputs": [
        {
          "output_type": "stream",
          "name": "stdout",
          "text": [
            "Overview\n",
            "Access to public records\n",
            "Student medical records\n"
          ]
        }
      ]
    },
    {
      "cell_type": "code",
      "source": [
        "for item in re.finditer(\"(?P<title>[\\w ]*)(?P<edit_link>\\[edit\\])\",wiki):\n",
        "  print(item.groupdict())"
      ],
      "metadata": {
        "colab": {
          "base_uri": "https://localhost:8080/"
        },
        "id": "4YTESDoisLPP",
        "outputId": "b2dd94cf-2b5b-4825-9132-34ecae529717"
      },
      "execution_count": 41,
      "outputs": [
        {
          "output_type": "stream",
          "name": "stdout",
          "text": [
            "{'title': 'Overview', 'edit_link': '[edit]'}\n",
            "{'title': 'Access to public records', 'edit_link': '[edit]'}\n",
            "{'title': 'Student medical records', 'edit_link': '[edit]'}\n"
          ]
        }
      ]
    },
    {
      "cell_type": "markdown",
      "source": [
        "#Look Ahead and Look Behind"
      ],
      "metadata": {
        "id": "GOh9tW4xsjGP"
      }
    },
    {
      "cell_type": "code",
      "source": [],
      "metadata": {
        "id": "Y6cCp203sVpi"
      },
      "execution_count": null,
      "outputs": []
    }
  ]
}