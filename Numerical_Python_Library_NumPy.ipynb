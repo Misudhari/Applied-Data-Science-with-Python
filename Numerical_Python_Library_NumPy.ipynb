{
  "nbformat": 4,
  "nbformat_minor": 0,
  "metadata": {
    "colab": {
      "provenance": [],
      "authorship_tag": "ABX9TyMXYMipIBgE7TT9S6CBbzQN",
      "include_colab_link": true
    },
    "kernelspec": {
      "name": "python3",
      "display_name": "Python 3"
    },
    "language_info": {
      "name": "python"
    }
  },
  "cells": [
    {
      "cell_type": "markdown",
      "metadata": {
        "id": "view-in-github",
        "colab_type": "text"
      },
      "source": [
        "<a href=\"https://colab.research.google.com/github/Misudhari/Applied-Data-Science-with-Python/blob/main/Numerical_Python_Library_NumPy.ipynb\" target=\"_parent\"><img src=\"https://colab.research.google.com/assets/colab-badge.svg\" alt=\"Open In Colab\"/></a>"
      ]
    },
    {
      "cell_type": "code",
      "source": [
        "from google.colab import drive\n",
        "drive.mount('/content/drive')"
      ],
      "metadata": {
        "colab": {
          "base_uri": "https://localhost:8080/"
        },
        "id": "OIs-QKZKIBTY",
        "outputId": "4a4c6bf4-a4b3-4dd9-d928-9394124f73da"
      },
      "execution_count": 1,
      "outputs": [
        {
          "output_type": "stream",
          "name": "stdout",
          "text": [
            "Mounted at /content/drive\n"
          ]
        }
      ]
    },
    {
      "cell_type": "code",
      "execution_count": 3,
      "metadata": {
        "id": "p_JXDvY3fn82"
      },
      "outputs": [],
      "source": [
        "import numpy as np\n",
        "import math"
      ]
    },
    {
      "cell_type": "markdown",
      "source": [
        "#Array Creation"
      ],
      "metadata": {
        "id": "qHrI-cEFf3Oa"
      }
    },
    {
      "cell_type": "code",
      "source": [
        "a = np.array([1,2,3])\n",
        "print(a)\n",
        "print(a.ndim)"
      ],
      "metadata": {
        "colab": {
          "base_uri": "https://localhost:8080/"
        },
        "id": "WtklM1Exfx0l",
        "outputId": "2299538b-6ac1-4e02-b495-ab815475cba9"
      },
      "execution_count": null,
      "outputs": [
        {
          "output_type": "stream",
          "name": "stdout",
          "text": [
            "[1 2 3]\n",
            "1\n"
          ]
        }
      ]
    },
    {
      "cell_type": "code",
      "source": [
        "\n",
        "b = np.array([[1,2,3], [4,5,6]])\n",
        "b"
      ],
      "metadata": {
        "colab": {
          "base_uri": "https://localhost:8080/"
        },
        "id": "Hbf10Qc2gDRk",
        "outputId": "eeb61187-76f0-476f-e5b3-58171f67dc88"
      },
      "execution_count": null,
      "outputs": [
        {
          "output_type": "execute_result",
          "data": {
            "text/plain": [
              "array([[1, 2, 3],\n",
              "       [4, 5, 6]])"
            ]
          },
          "metadata": {},
          "execution_count": 7
        }
      ]
    },
    {
      "cell_type": "code",
      "source": [
        "b.shape"
      ],
      "metadata": {
        "colab": {
          "base_uri": "https://localhost:8080/"
        },
        "id": "ZzUyns-ygTqT",
        "outputId": "28e76544-6aab-4699-c1f1-7f1929bd707b"
      },
      "execution_count": null,
      "outputs": [
        {
          "output_type": "execute_result",
          "data": {
            "text/plain": [
              "(2, 3)"
            ]
          },
          "metadata": {},
          "execution_count": 8
        }
      ]
    },
    {
      "cell_type": "code",
      "source": [
        "a.dtype.name"
      ],
      "metadata": {
        "colab": {
          "base_uri": "https://localhost:8080/",
          "height": 36
        },
        "id": "th_GWoK6gVKk",
        "outputId": "f2c0c0db-2eaa-482f-c7ae-a9d435636504"
      },
      "execution_count": null,
      "outputs": [
        {
          "output_type": "execute_result",
          "data": {
            "text/plain": [
              "'int64'"
            ],
            "application/vnd.google.colaboratory.intrinsic+json": {
              "type": "string"
            }
          },
          "metadata": {},
          "execution_count": 9
        }
      ]
    },
    {
      "cell_type": "code",
      "source": [
        "c = np.array([2.2, 5, 1.1])\n",
        "c.dtype.name"
      ],
      "metadata": {
        "colab": {
          "base_uri": "https://localhost:8080/",
          "height": 36
        },
        "id": "ov084ASEgcy4",
        "outputId": "6f687dab-328d-4ee5-a217-a0b63b42e8ac"
      },
      "execution_count": null,
      "outputs": [
        {
          "output_type": "execute_result",
          "data": {
            "text/plain": [
              "'float64'"
            ],
            "application/vnd.google.colaboratory.intrinsic+json": {
              "type": "string"
            }
          },
          "metadata": {},
          "execution_count": 10
        }
      ]
    },
    {
      "cell_type": "code",
      "source": [
        "d = np.zeros((2,3))\n",
        "print(d)\n",
        "e = np.ones((2,3))\n",
        "print(e)"
      ],
      "metadata": {
        "colab": {
          "base_uri": "https://localhost:8080/"
        },
        "id": "VewrjAk-gleA",
        "outputId": "cd8bc628-4255-42dc-800a-f06e52e02ca0"
      },
      "execution_count": null,
      "outputs": [
        {
          "output_type": "stream",
          "name": "stdout",
          "text": [
            "[[0. 0. 0.]\n",
            " [0. 0. 0.]]\n",
            "[[1. 1. 1.]\n",
            " [1. 1. 1.]]\n"
          ]
        }
      ]
    },
    {
      "cell_type": "code",
      "source": [
        "np.random.rand(2,3)"
      ],
      "metadata": {
        "colab": {
          "base_uri": "https://localhost:8080/"
        },
        "id": "Ll8YJJczhBIE",
        "outputId": "83ff359d-f87d-4e18-bbec-ad01ce20898d"
      },
      "execution_count": null,
      "outputs": [
        {
          "output_type": "execute_result",
          "data": {
            "text/plain": [
              "array([[0.57418468, 0.95036535, 0.34390301],\n",
              "       [0.56160479, 0.57615396, 0.89994867]])"
            ]
          },
          "metadata": {},
          "execution_count": 12
        }
      ]
    },
    {
      "cell_type": "code",
      "source": [
        "f = np.arange(10,50,2)\n",
        "f"
      ],
      "metadata": {
        "colab": {
          "base_uri": "https://localhost:8080/"
        },
        "id": "HNUmieaOhI_x",
        "outputId": "643a1df8-23f4-4866-e064-cc75d1ce3f66"
      },
      "execution_count": null,
      "outputs": [
        {
          "output_type": "execute_result",
          "data": {
            "text/plain": [
              "array([10, 12, 14, 16, 18, 20, 22, 24, 26, 28, 30, 32, 34, 36, 38, 40, 42,\n",
              "       44, 46, 48])"
            ]
          },
          "metadata": {},
          "execution_count": 13
        }
      ]
    },
    {
      "cell_type": "code",
      "source": [
        "np.linspace(0,2,15)"
      ],
      "metadata": {
        "colab": {
          "base_uri": "https://localhost:8080/"
        },
        "id": "2UZJ2QiXhVhK",
        "outputId": "c6c45c26-dec9-4deb-c17b-14b09f721eaa"
      },
      "execution_count": null,
      "outputs": [
        {
          "output_type": "execute_result",
          "data": {
            "text/plain": [
              "array([0.        , 0.14285714, 0.28571429, 0.42857143, 0.57142857,\n",
              "       0.71428571, 0.85714286, 1.        , 1.14285714, 1.28571429,\n",
              "       1.42857143, 1.57142857, 1.71428571, 1.85714286, 2.        ])"
            ]
          },
          "metadata": {},
          "execution_count": 14
        }
      ]
    },
    {
      "cell_type": "markdown",
      "source": [
        "#Array Operations"
      ],
      "metadata": {
        "id": "j_NvT86ihuVS"
      }
    },
    {
      "cell_type": "code",
      "source": [
        "a= np.array([10,20,30,40])\n",
        "b = np.array([1,2,3,4])\n",
        "\n",
        "c = a-b\n",
        "print(c)\n",
        "\n",
        "d = a*b\n",
        "print(d)"
      ],
      "metadata": {
        "colab": {
          "base_uri": "https://localhost:8080/"
        },
        "id": "KPU4Uz9ShqqM",
        "outputId": "97c95b00-ec10-49c2-bffd-43f850e82c85"
      },
      "execution_count": null,
      "outputs": [
        {
          "output_type": "stream",
          "name": "stdout",
          "text": [
            "[ 9 18 27 36]\n",
            "[ 10  40  90 160]\n"
          ]
        }
      ]
    },
    {
      "cell_type": "code",
      "source": [
        "farenheit = np.array([0, -10, -5, -15, 0])\n",
        "\n",
        "#((f - 32) * 5/9 = c)\n",
        "\n",
        "celcius = (farenheit - 32) * (5/9)\n",
        "celcius\n",
        "\n"
      ],
      "metadata": {
        "colab": {
          "base_uri": "https://localhost:8080/"
        },
        "id": "bT58gus9iDgw",
        "outputId": "09f5f3ef-161b-49e1-f975-bbdb85c4557c"
      },
      "execution_count": null,
      "outputs": [
        {
          "output_type": "execute_result",
          "data": {
            "text/plain": [
              "array([-17.77777778, -23.33333333, -20.55555556, -26.11111111,\n",
              "       -17.77777778])"
            ]
          },
          "metadata": {},
          "execution_count": 16
        }
      ]
    },
    {
      "cell_type": "code",
      "source": [
        "celcius > -20"
      ],
      "metadata": {
        "colab": {
          "base_uri": "https://localhost:8080/"
        },
        "id": "EezwR2oJi_pP",
        "outputId": "ebd5b023-51be-4e8f-dbe8-cb6e90e0133f"
      },
      "execution_count": null,
      "outputs": [
        {
          "output_type": "execute_result",
          "data": {
            "text/plain": [
              "array([ True, False, False, False,  True])"
            ]
          },
          "metadata": {},
          "execution_count": 17
        }
      ]
    },
    {
      "cell_type": "code",
      "source": [
        "celcius % 2 == 0"
      ],
      "metadata": {
        "colab": {
          "base_uri": "https://localhost:8080/"
        },
        "id": "YBbTuPI8jKcb",
        "outputId": "163b0f93-a5a4-47ef-97ac-da7f72e538b3"
      },
      "execution_count": null,
      "outputs": [
        {
          "output_type": "execute_result",
          "data": {
            "text/plain": [
              "array([False, False, False, False, False])"
            ]
          },
          "metadata": {},
          "execution_count": 18
        }
      ]
    },
    {
      "cell_type": "code",
      "source": [
        "A = np.array([[1,1],[0,1]])\n",
        "B = np.array([[2,0], [3,4]])\n",
        "print (A*B)\n",
        "\n",
        "# for matrix produc use @\n",
        "print(A@B)"
      ],
      "metadata": {
        "colab": {
          "base_uri": "https://localhost:8080/"
        },
        "id": "fbtDGpXQjRiW",
        "outputId": "8dbb4ed5-0780-4743-b920-12e6bbe971ad"
      },
      "execution_count": null,
      "outputs": [
        {
          "output_type": "stream",
          "name": "stdout",
          "text": [
            "[[2 0]\n",
            " [0 4]]\n",
            "[[5 4]\n",
            " [3 4]]\n"
          ]
        }
      ]
    },
    {
      "cell_type": "code",
      "source": [
        "A.shape"
      ],
      "metadata": {
        "colab": {
          "base_uri": "https://localhost:8080/"
        },
        "id": "iT2xKDuHjkxu",
        "outputId": "67f39d17-b107-433a-de8d-9223c93d1df1"
      },
      "execution_count": null,
      "outputs": [
        {
          "output_type": "execute_result",
          "data": {
            "text/plain": [
              "(2, 2)"
            ]
          },
          "metadata": {},
          "execution_count": 20
        }
      ]
    },
    {
      "cell_type": "code",
      "source": [
        "B.shape"
      ],
      "metadata": {
        "colab": {
          "base_uri": "https://localhost:8080/"
        },
        "id": "8sFqljXFkGqw",
        "outputId": "5233f77d-0d42-4a4a-ca18-bd1fd2a6b15d"
      },
      "execution_count": null,
      "outputs": [
        {
          "output_type": "execute_result",
          "data": {
            "text/plain": [
              "(2, 2)"
            ]
          },
          "metadata": {},
          "execution_count": 21
        }
      ]
    },
    {
      "cell_type": "code",
      "source": [
        "array1 = np.array([[1,2,3], [4,5,6]])\n",
        "print(array1.dtype.name)\n",
        "array2 = np.array([[7.1,8.2,9.1], [10.4, 11.2, 12.3]])\n",
        "print(array2.dtype.name)"
      ],
      "metadata": {
        "colab": {
          "base_uri": "https://localhost:8080/"
        },
        "id": "dsfvmcw3kH0Z",
        "outputId": "387ca428-b1e9-4873-986f-795fb86ac13c"
      },
      "execution_count": null,
      "outputs": [
        {
          "output_type": "stream",
          "name": "stdout",
          "text": [
            "int64\n",
            "float64\n"
          ]
        }
      ]
    },
    {
      "cell_type": "code",
      "source": [
        "array3 = array1 + array2\n",
        "print(array3)\n",
        "print(array3.dtype)"
      ],
      "metadata": {
        "colab": {
          "base_uri": "https://localhost:8080/"
        },
        "id": "Ggo-GpJsko87",
        "outputId": "84c541fc-1cc9-45ff-c2ef-1b0b4f19fd73"
      },
      "execution_count": null,
      "outputs": [
        {
          "output_type": "stream",
          "name": "stdout",
          "text": [
            "[[ 8.1 10.2 12.1]\n",
            " [14.4 16.2 18.3]]\n",
            "float64\n"
          ]
        }
      ]
    },
    {
      "cell_type": "code",
      "source": [
        "print(array3.sum())\n",
        "print(array3.max())\n",
        "print(array3.min())\n",
        "print(array3.mean())"
      ],
      "metadata": {
        "colab": {
          "base_uri": "https://localhost:8080/"
        },
        "id": "8cZ5sAbLk5GR",
        "outputId": "3477af13-2158-4ca1-dbe0-2658155348e6"
      },
      "execution_count": null,
      "outputs": [
        {
          "output_type": "stream",
          "name": "stdout",
          "text": [
            "79.3\n",
            "18.3\n",
            "8.1\n",
            "13.216666666666667\n"
          ]
        }
      ]
    },
    {
      "cell_type": "code",
      "source": [
        "b = np.arange(1,16,1).reshape(3,5)\n",
        "print(b)"
      ],
      "metadata": {
        "colab": {
          "base_uri": "https://localhost:8080/"
        },
        "id": "coSdGFjalNQR",
        "outputId": "d0dfdbb0-24dd-41b5-f5c5-8aee07ef8d34"
      },
      "execution_count": null,
      "outputs": [
        {
          "output_type": "stream",
          "name": "stdout",
          "text": [
            "[[ 1  2  3  4  5]\n",
            " [ 6  7  8  9 10]\n",
            " [11 12 13 14 15]]\n"
          ]
        }
      ]
    },
    {
      "cell_type": "code",
      "source": [
        "from PIL import Image\n",
        "from IPython.display import display\n"
      ],
      "metadata": {
        "id": "8tMzoOd5lejO"
      },
      "execution_count": null,
      "outputs": []
    },
    {
      "cell_type": "code",
      "source": [
        "im = Image.open('/content/nami.png')\n",
        "display(im)"
      ],
      "metadata": {
        "colab": {
          "base_uri": "https://localhost:8080/",
          "height": 217
        },
        "id": "5zfhgIYLl3pR",
        "outputId": "10257206-93c1-4710-f96e-6fe93765889c"
      },
      "execution_count": null,
      "outputs": [
        {
          "output_type": "display_data",
          "data": {
            "text/plain": [
              "<PIL.PngImagePlugin.PngImageFile image mode=RGB size=200x200 at 0x7FF04D2F0890>"
            ],
            "image/png": "[encoded data removed]"
          },
          "metadata": {}
        }
      ]
    },
    {
      "cell_type": "code",
      "source": [
        "array = np.array(im)\n",
        "print(array.shape)\n",
        "array"
      ],
      "metadata": {
        "colab": {
          "base_uri": "https://localhost:8080/"
        },
        "id": "8AqjqNeonARk",
        "outputId": "aa178925-e1c4-4623-db48-d89d0f4c0318"
      },
      "execution_count": null,
      "outputs": [
        {
          "output_type": "stream",
          "name": "stdout",
          "text": [
            "(200, 200, 3)\n"
          ]
        },
        {
          "output_type": "execute_result",
          "data": {
            "text/plain": [
              "array([[[ 73,  73,  49],\n",
              "        [127,  75,  29],\n",
              "        [205, 101,  36],\n",
              "        ...,\n",
              "        [ 35,  46,  61],\n",
              "        [ 34,  44,  58],\n",
              "        [ 34,  43,  57]],\n",
              "\n",
              "       [[ 69,  49,  23],\n",
              "        [181,  92,  34],\n",
              "        [210, 103,  38],\n",
              "        ...,\n",
              "        [ 36,  47,  62],\n",
              "        [ 35,  45,  59],\n",
              "        [ 34,  43,  58]],\n",
              "\n",
              "       [[171,  88,  34],\n",
              "        [203, 100,  37],\n",
              "        [217, 106,  38],\n",
              "        ...,\n",
              "        [ 36,  47,  62],\n",
              "        [ 35,  46,  60],\n",
              "        [ 34,  44,  58]],\n",
              "\n",
              "       ...,\n",
              "\n",
              "       [[212,  70,  16],\n",
              "        [212,  71,  17],\n",
              "        [213,  74,  19],\n",
              "        ...,\n",
              "        [245, 227, 215],\n",
              "        [226, 208, 198],\n",
              "        [165, 151, 144]],\n",
              "\n",
              "       [[213,  71,  17],\n",
              "        [213,  73,  18],\n",
              "        [213,  75,  20],\n",
              "        ...,\n",
              "        [251, 231, 217],\n",
              "        [245, 227, 216],\n",
              "        [226, 209, 198]],\n",
              "\n",
              "       [[214,  73,  18],\n",
              "        [214,  75,  19],\n",
              "        [210,  75,  20],\n",
              "        ...,\n",
              "        [253, 226, 209],\n",
              "        [252, 231, 219],\n",
              "        [245, 227, 216]]], dtype=uint8)"
            ]
          },
          "metadata": {},
          "execution_count": 53
        }
      ]
    },
    {
      "cell_type": "code",
      "source": [
        "mask = np.full(array.shape, 255)\n",
        "mask"
      ],
      "metadata": {
        "colab": {
          "base_uri": "https://localhost:8080/"
        },
        "id": "MAAFi7GQnSsq",
        "outputId": "0a48a2d8-7a56-4934-d63f-106c0249dd58"
      },
      "execution_count": null,
      "outputs": [
        {
          "output_type": "execute_result",
          "data": {
            "text/plain": [
              "array([[[255, 255, 255],\n",
              "        [255, 255, 255],\n",
              "        [255, 255, 255],\n",
              "        ...,\n",
              "        [255, 255, 255],\n",
              "        [255, 255, 255],\n",
              "        [255, 255, 255]],\n",
              "\n",
              "       [[255, 255, 255],\n",
              "        [255, 255, 255],\n",
              "        [255, 255, 255],\n",
              "        ...,\n",
              "        [255, 255, 255],\n",
              "        [255, 255, 255],\n",
              "        [255, 255, 255]],\n",
              "\n",
              "       [[255, 255, 255],\n",
              "        [255, 255, 255],\n",
              "        [255, 255, 255],\n",
              "        ...,\n",
              "        [255, 255, 255],\n",
              "        [255, 255, 255],\n",
              "        [255, 255, 255]],\n",
              "\n",
              "       ...,\n",
              "\n",
              "       [[255, 255, 255],\n",
              "        [255, 255, 255],\n",
              "        [255, 255, 255],\n",
              "        ...,\n",
              "        [255, 255, 255],\n",
              "        [255, 255, 255],\n",
              "        [255, 255, 255]],\n",
              "\n",
              "       [[255, 255, 255],\n",
              "        [255, 255, 255],\n",
              "        [255, 255, 255],\n",
              "        ...,\n",
              "        [255, 255, 255],\n",
              "        [255, 255, 255],\n",
              "        [255, 255, 255]],\n",
              "\n",
              "       [[255, 255, 255],\n",
              "        [255, 255, 255],\n",
              "        [255, 255, 255],\n",
              "        ...,\n",
              "        [255, 255, 255],\n",
              "        [255, 255, 255],\n",
              "        [255, 255, 255]]])"
            ]
          },
          "metadata": {},
          "execution_count": 54
        }
      ]
    },
    {
      "cell_type": "code",
      "source": [
        "modified_array = array-mask\n",
        "\n",
        "modified_array = modified_array*-1\n",
        "\n",
        "modified_array = modified_array.astype(np.uint8)\n",
        "modified_array"
      ],
      "metadata": {
        "colab": {
          "base_uri": "https://localhost:8080/"
        },
        "id": "E2gUDfvon06R",
        "outputId": "0f807a00-bcb9-4dc0-cbd0-848b891a24db"
      },
      "execution_count": null,
      "outputs": [
        {
          "output_type": "execute_result",
          "data": {
            "text/plain": [
              "array([[[182, 182, 206],\n",
              "        [128, 180, 226],\n",
              "        [ 50, 154, 219],\n",
              "        ...,\n",
              "        [220, 209, 194],\n",
              "        [221, 211, 197],\n",
              "        [221, 212, 198]],\n",
              "\n",
              "       [[186, 206, 232],\n",
              "        [ 74, 163, 221],\n",
              "        [ 45, 152, 217],\n",
              "        ...,\n",
              "        [219, 208, 193],\n",
              "        [220, 210, 196],\n",
              "        [221, 212, 197]],\n",
              "\n",
              "       [[ 84, 167, 221],\n",
              "        [ 52, 155, 218],\n",
              "        [ 38, 149, 217],\n",
              "        ...,\n",
              "        [219, 208, 193],\n",
              "        [220, 209, 195],\n",
              "        [221, 211, 197]],\n",
              "\n",
              "       ...,\n",
              "\n",
              "       [[ 43, 185, 239],\n",
              "        [ 43, 184, 238],\n",
              "        [ 42, 181, 236],\n",
              "        ...,\n",
              "        [ 10,  28,  40],\n",
              "        [ 29,  47,  57],\n",
              "        [ 90, 104, 111]],\n",
              "\n",
              "       [[ 42, 184, 238],\n",
              "        [ 42, 182, 237],\n",
              "        [ 42, 180, 235],\n",
              "        ...,\n",
              "        [  4,  24,  38],\n",
              "        [ 10,  28,  39],\n",
              "        [ 29,  46,  57]],\n",
              "\n",
              "       [[ 41, 182, 237],\n",
              "        [ 41, 180, 236],\n",
              "        [ 45, 180, 235],\n",
              "        ...,\n",
              "        [  2,  29,  46],\n",
              "        [  3,  24,  36],\n",
              "        [ 10,  28,  39]]], dtype=uint8)"
            ]
          },
          "metadata": {},
          "execution_count": 55
        }
      ]
    },
    {
      "cell_type": "code",
      "source": [
        "display(Image.fromarray(modified_array))"
      ],
      "metadata": {
        "colab": {
          "base_uri": "https://localhost:8080/",
          "height": 217
        },
        "id": "mlPg0jf0ockq",
        "outputId": "cf8a9f94-ec0a-4908-bf9a-5009bd0870ce"
      },
      "execution_count": null,
      "outputs": [
        {
          "output_type": "display_data",
          "data": {
            "text/plain": [
              "<PIL.Image.Image image mode=RGB size=200x200 at 0x7FF04D30E910>"
            ],
            "image/png": "[encoded data removed]"
          },
          "metadata": {}
        }
      ]
    },
    {
      "cell_type": "markdown",
      "source": [
        "#Indexing, Slicing and Iterating"
      ],
      "metadata": {
        "id": "vV5Q13lEtFfu"
      }
    },
    {
      "cell_type": "markdown",
      "source": [
        "#Indexing"
      ],
      "metadata": {
        "id": "GEUzKH5ytOEY"
      }
    },
    {
      "cell_type": "code",
      "source": [
        "a = np.array([1,2,3,7])\n",
        "a[2]"
      ],
      "metadata": {
        "colab": {
          "base_uri": "https://localhost:8080/"
        },
        "id": "r54Z7PKnpEfv",
        "outputId": "1bc3f992-2e16-4397-a911-4c053425a9e9"
      },
      "execution_count": null,
      "outputs": [
        {
          "output_type": "execute_result",
          "data": {
            "text/plain": [
              "3"
            ]
          },
          "metadata": {},
          "execution_count": 59
        }
      ]
    },
    {
      "cell_type": "code",
      "source": [
        "a = np.array([[1,2], [3,4], [5,6]])\n",
        "a"
      ],
      "metadata": {
        "colab": {
          "base_uri": "https://localhost:8080/"
        },
        "id": "ofFmJYCAsa-8",
        "outputId": "1503b06f-25e7-425e-b8a1-4e5e98cab4ae"
      },
      "execution_count": null,
      "outputs": [
        {
          "output_type": "execute_result",
          "data": {
            "text/plain": [
              "array([[1, 2],\n",
              "       [3, 4],\n",
              "       [5, 6]])"
            ]
          },
          "metadata": {},
          "execution_count": 60
        }
      ]
    },
    {
      "cell_type": "code",
      "source": [
        "a[1,1]"
      ],
      "metadata": {
        "colab": {
          "base_uri": "https://localhost:8080/"
        },
        "id": "gTfRGs6btjRY",
        "outputId": "3e41451c-a9d3-43b0-fb61-95dca15d60e7"
      },
      "execution_count": null,
      "outputs": [
        {
          "output_type": "execute_result",
          "data": {
            "text/plain": [
              "4"
            ]
          },
          "metadata": {},
          "execution_count": 61
        }
      ]
    },
    {
      "cell_type": "code",
      "source": [
        "np.array([a[0,0], a[1,1], a[2,1]])"
      ],
      "metadata": {
        "colab": {
          "base_uri": "https://localhost:8080/"
        },
        "id": "heuc_ZFAtlsV",
        "outputId": "c05b5507-69e7-4ec6-a6cb-ee16e420a419"
      },
      "execution_count": null,
      "outputs": [
        {
          "output_type": "execute_result",
          "data": {
            "text/plain": [
              "array([1, 4, 6])"
            ]
          },
          "metadata": {},
          "execution_count": 62
        }
      ]
    },
    {
      "cell_type": "code",
      "source": [
        "print(a[[0,1,2], [0,1,1]])"
      ],
      "metadata": {
        "colab": {
          "base_uri": "https://localhost:8080/"
        },
        "id": "o3gSp9CbtvnL",
        "outputId": "c23940c2-7571-45df-f9c4-00ab24428a51"
      },
      "execution_count": null,
      "outputs": [
        {
          "output_type": "stream",
          "name": "stdout",
          "text": [
            "[1 4 6]\n"
          ]
        }
      ]
    },
    {
      "cell_type": "markdown",
      "source": [
        "#Boolean Indexing"
      ],
      "metadata": {
        "id": "t3Mtm0ikt_o1"
      }
    },
    {
      "cell_type": "code",
      "source": [
        "print(a>5)"
      ],
      "metadata": {
        "colab": {
          "base_uri": "https://localhost:8080/"
        },
        "id": "3ZdgSArXt7ig",
        "outputId": "94813ddc-6060-4793-cacb-97caaf4d5475"
      },
      "execution_count": null,
      "outputs": [
        {
          "output_type": "stream",
          "name": "stdout",
          "text": [
            "[[False False]\n",
            " [False False]\n",
            " [False  True]]\n"
          ]
        }
      ]
    },
    {
      "cell_type": "code",
      "source": [
        "print(a[a>5])"
      ],
      "metadata": {
        "colab": {
          "base_uri": "https://localhost:8080/"
        },
        "id": "12UqETiluFwS",
        "outputId": "2bd32a26-8f1a-402b-90ae-b60bee6f2bcc"
      },
      "execution_count": null,
      "outputs": [
        {
          "output_type": "stream",
          "name": "stdout",
          "text": [
            "[6]\n"
          ]
        }
      ]
    },
    {
      "cell_type": "markdown",
      "source": [
        "#Slicing"
      ],
      "metadata": {
        "id": "9VAGncZLuaRO"
      }
    },
    {
      "cell_type": "code",
      "source": [
        "a = np.array([0,1,2,3,4,5])\n",
        "print(a[:3])"
      ],
      "metadata": {
        "colab": {
          "base_uri": "https://localhost:8080/"
        },
        "id": "xSbIcKAtuXTc",
        "outputId": "818715e4-388d-4879-9fbe-c6fc84995dec"
      },
      "execution_count": null,
      "outputs": [
        {
          "output_type": "stream",
          "name": "stdout",
          "text": [
            "[0 1 2]\n"
          ]
        }
      ]
    },
    {
      "cell_type": "code",
      "source": [
        "print(a[2:4])"
      ],
      "metadata": {
        "colab": {
          "base_uri": "https://localhost:8080/"
        },
        "id": "eVpEKcl6ukQo",
        "outputId": "996e6a6e-6c8e-40a0-fe69-4869bab6d302"
      },
      "execution_count": null,
      "outputs": [
        {
          "output_type": "stream",
          "name": "stdout",
          "text": [
            "[2 3]\n"
          ]
        }
      ]
    },
    {
      "cell_type": "code",
      "source": [
        "a = np.array([[1,2,3,4], [5,6,7,8], [9,10,11,12]])\n",
        "a"
      ],
      "metadata": {
        "colab": {
          "base_uri": "https://localhost:8080/"
        },
        "id": "T45UVbJSupSi",
        "outputId": "fdf42361-29fa-4c02-ab53-747eeebd73f9"
      },
      "execution_count": null,
      "outputs": [
        {
          "output_type": "execute_result",
          "data": {
            "text/plain": [
              "array([[ 1,  2,  3,  4],\n",
              "       [ 5,  6,  7,  8],\n",
              "       [ 9, 10, 11, 12]])"
            ]
          },
          "metadata": {},
          "execution_count": 68
        }
      ]
    },
    {
      "cell_type": "code",
      "source": [
        "a[:2]"
      ],
      "metadata": {
        "colab": {
          "base_uri": "https://localhost:8080/"
        },
        "id": "EDdbCJNvuz8S",
        "outputId": "19131c48-143e-4513-93f8-393abf96e0ad"
      },
      "execution_count": null,
      "outputs": [
        {
          "output_type": "execute_result",
          "data": {
            "text/plain": [
              "array([[1, 2, 3, 4],\n",
              "       [5, 6, 7, 8]])"
            ]
          },
          "metadata": {},
          "execution_count": 69
        }
      ]
    },
    {
      "cell_type": "code",
      "source": [
        "a[:2, 1:3]"
      ],
      "metadata": {
        "colab": {
          "base_uri": "https://localhost:8080/"
        },
        "id": "fkkbuzLDu4hT",
        "outputId": "5be94676-c184-4c47-9fe6-f2c9081aa686"
      },
      "execution_count": null,
      "outputs": [
        {
          "output_type": "execute_result",
          "data": {
            "text/plain": [
              "array([[2, 3],\n",
              "       [6, 7]])"
            ]
          },
          "metadata": {},
          "execution_count": 70
        }
      ]
    },
    {
      "cell_type": "code",
      "source": [
        "sub_array = a[:2, 1:3]\n",
        "print(\"sub array index [0,0] value before change:\", sub_array[0,0])\n",
        "sub_array[0,0] = 50\n",
        "print(\"sub array index [0,0] value after change:\", sub_array[0,0])\n",
        "print(\"Original Array index [0,1] value after change:\", a[0,1])"
      ],
      "metadata": {
        "colab": {
          "base_uri": "https://localhost:8080/"
        },
        "id": "TgbY46pJu-vB",
        "outputId": "41a048be-52c6-47f5-a79d-de35791c28e2"
      },
      "execution_count": null,
      "outputs": [
        {
          "output_type": "stream",
          "name": "stdout",
          "text": [
            "sub array index [0,0] value before change: 50\n",
            "sub array index [0,0] value after change: 50\n",
            "Original Array index [0,1] value after change: 50\n"
          ]
        }
      ]
    },
    {
      "cell_type": "markdown",
      "source": [
        "#Trying NumPy with Datasets"
      ],
      "metadata": {
        "id": "P4qYPPsMv5uF"
      }
    },
    {
      "cell_type": "code",
      "source": [
        "wines = np.genfromtxt(\"/content/drive/MyDrive/Datasets/winequality-red.csv\", dtype = None, delimiter=\",\", skip_header=1)\n",
        "wines\n",
        "\n",
        "# (12 x 1599)"
      ],
      "metadata": {
        "id": "GSj92G3-vl4T",
        "colab": {
          "base_uri": "https://localhost:8080/"
        },
        "outputId": "fec734da-7375-4e58-f3a4-248b604de815"
      },
      "execution_count": 32,
      "outputs": [
        {
          "output_type": "execute_result",
          "data": {
            "text/plain": [
              "array([(7.4, 0.7  , 0.  , 1.9, 0.076, 11., 34., 0.9978 , 3.51, 0.56,  9.4, 5),\n",
              "       (7.8, 0.88 , 0.  , 2.6, 0.098, 25., 67., 0.9968 , 3.2 , 0.68,  9.8, 5),\n",
              "       (7.8, 0.76 , 0.04, 2.3, 0.092, 15., 54., 0.997  , 3.26, 0.65,  9.8, 5),\n",
              "       ...,\n",
              "       (6.3, 0.51 , 0.13, 2.3, 0.076, 29., 40., 0.99574, 3.42, 0.75, 11. , 6),\n",
              "       (5.9, 0.645, 0.12, 2. , 0.075, 32., 44., 0.99547, 3.57, 0.71, 10.2, 5),\n",
              "       (6. , 0.31 , 0.47, 3.6, 0.067, 18., 42., 0.99549, 3.39, 0.66, 11. , 6)],\n",
              "      dtype=[('f0', '<f8'), ('f1', '<f8'), ('f2', '<f8'), ('f3', '<f8'), ('f4', '<f8'), ('f5', '<f8'), ('f6', '<f8'), ('f7', '<f8'), ('f8', '<f8'), ('f9', '<f8'), ('f10', '<f8'), ('f11', '<i8')])"
            ]
          },
          "metadata": {},
          "execution_count": 32
        }
      ]
    },
    {
      "cell_type": "code",
      "source": [
        "graduate_admission = np.genfromtxt('/content/drive/MyDrive/Datasets/Graduate School Admission Data/US_graduate_schools_admission_parameters_dataset.csv', dtype = None, delimiter=\",\", skip_header=1,\n",
        "                                   names = ('Serial No.', 'GRE Score', 'TOEFL Score', 'University Rating', 'SOP', 'LOR', 'CGPA','Research', 'Chance of Admit'))\n",
        "graduate_admission"
      ],
      "metadata": {
        "colab": {
          "base_uri": "https://localhost:8080/"
        },
        "id": "jUpLvoBKKzmd",
        "outputId": "fdeeff38-10e1-4689-acc8-8554725bccb7"
      },
      "execution_count": 21,
      "outputs": [
        {
          "output_type": "execute_result",
          "data": {
            "text/plain": [
              "array([(  1, 337, 118, 4, 4.5, 4.5, 9.65, 1, 0.92),\n",
              "       (  2, 324, 107, 4, 4. , 4.5, 8.87, 1, 0.76),\n",
              "       (  3, 316, 104, 3, 3. , 3.5, 8.  , 1, 0.72),\n",
              "       (  4, 322, 110, 3, 3.5, 2.5, 8.67, 1, 0.8 ),\n",
              "       (  5, 314, 103, 2, 2. , 3. , 8.21, 0, 0.65),\n",
              "       (  6, 330, 115, 5, 4.5, 3. , 9.34, 1, 0.9 ),\n",
              "       (  7, 321, 109, 3, 3. , 4. , 8.2 , 1, 0.75),\n",
              "       (  8, 308, 101, 2, 3. , 4. , 7.9 , 0, 0.68),\n",
              "       (  9, 302, 102, 1, 2. , 1.5, 8.  , 0, 0.5 ),\n",
              "       ( 10, 323, 108, 3, 3.5, 3. , 8.6 , 0, 0.45),\n",
              "       ( 11, 325, 106, 3, 3.5, 4. , 8.4 , 1, 0.52),\n",
              "       ( 12, 327, 111, 4, 4. , 4.5, 9.  , 1, 0.84),\n",
              "       ( 13, 328, 112, 4, 4. , 4.5, 9.1 , 1, 0.78),\n",
              "       ( 14, 307, 109, 3, 4. , 3. , 8.  , 1, 0.62),\n",
              "       ( 15, 311, 104, 3, 3.5, 2. , 8.2 , 1, 0.61),\n",
              "       ( 16, 314, 105, 3, 3.5, 2.5, 8.3 , 0, 0.54),\n",
              "       ( 17, 317, 107, 3, 4. , 3. , 8.7 , 0, 0.66),\n",
              "       ( 18, 319, 106, 3, 4. , 3. , 8.  , 1, 0.65),\n",
              "       ( 19, 318, 110, 3, 4. , 3. , 8.8 , 0, 0.63),\n",
              "       ( 20, 303, 102, 3, 3.5, 3. , 8.5 , 0, 0.62),\n",
              "       ( 21, 312, 107, 3, 3. , 2. , 7.9 , 1, 0.64),\n",
              "       ( 22, 325, 114, 4, 3. , 2. , 8.4 , 0, 0.7 ),\n",
              "       ( 23, 328, 116, 5, 5. , 5. , 9.5 , 1, 0.94),\n",
              "       ( 24, 334, 119, 5, 5. , 4.5, 9.7 , 1, 0.95),\n",
              "       ( 25, 336, 119, 5, 4. , 3.5, 9.8 , 1, 0.97),\n",
              "       ( 26, 340, 120, 5, 4.5, 4.5, 9.6 , 1, 0.94),\n",
              "       ( 27, 322, 109, 5, 4.5, 3.5, 8.8 , 0, 0.76),\n",
              "       ( 28, 298,  98, 2, 1.5, 2.5, 7.5 , 1, 0.44),\n",
              "       ( 29, 295,  93, 1, 2. , 2. , 7.2 , 0, 0.46),\n",
              "       ( 30, 310,  99, 2, 1.5, 2. , 7.3 , 0, 0.54),\n",
              "       ( 31, 300,  97, 2, 3. , 3. , 8.1 , 1, 0.65),\n",
              "       ( 32, 327, 103, 3, 4. , 4. , 8.3 , 1, 0.74),\n",
              "       ( 33, 338, 118, 4, 3. , 4.5, 9.4 , 1, 0.91),\n",
              "       ( 34, 340, 114, 5, 4. , 4. , 9.6 , 1, 0.9 ),\n",
              "       ( 35, 331, 112, 5, 4. , 5. , 9.8 , 1, 0.94),\n",
              "       ( 36, 320, 110, 5, 5. , 5. , 9.2 , 1, 0.88),\n",
              "       ( 37, 299, 106, 2, 4. , 4. , 8.4 , 0, 0.64),\n",
              "       ( 38, 300, 105, 1, 1. , 2. , 7.8 , 0, 0.58),\n",
              "       ( 39, 304, 105, 1, 3. , 1.5, 7.5 , 0, 0.52),\n",
              "       ( 40, 307, 108, 2, 4. , 3.5, 7.7 , 0, 0.48),\n",
              "       ( 41, 308, 110, 3, 3.5, 3. , 8.  , 1, 0.46),\n",
              "       ( 42, 316, 105, 2, 2.5, 2.5, 8.2 , 1, 0.49),\n",
              "       ( 43, 313, 107, 2, 2.5, 2. , 8.5 , 1, 0.53),\n",
              "       ( 44, 332, 117, 4, 4.5, 4. , 9.1 , 0, 0.87),\n",
              "       ( 45, 326, 113, 5, 4.5, 4. , 9.4 , 1, 0.91),\n",
              "       ( 46, 322, 110, 5, 5. , 4. , 9.1 , 1, 0.88),\n",
              "       ( 47, 329, 114, 5, 4. , 5. , 9.3 , 1, 0.86),\n",
              "       ( 48, 339, 119, 5, 4.5, 4. , 9.7 , 0, 0.89),\n",
              "       ( 49, 321, 110, 3, 3.5, 5. , 8.85, 1, 0.82),\n",
              "       ( 50, 327, 111, 4, 3. , 4. , 8.4 , 1, 0.78),\n",
              "       ( 51, 313,  98, 3, 2.5, 4.5, 8.3 , 1, 0.76),\n",
              "       ( 52, 312, 100, 2, 1.5, 3.5, 7.9 , 1, 0.56),\n",
              "       ( 53, 334, 116, 4, 4. , 3. , 8.  , 1, 0.78),\n",
              "       ( 54, 324, 112, 4, 4. , 2.5, 8.1 , 1, 0.72),\n",
              "       ( 55, 322, 110, 3, 3. , 3.5, 8.  , 0, 0.7 ),\n",
              "       ( 56, 320, 103, 3, 3. , 3. , 7.7 , 0, 0.64),\n",
              "       ( 57, 316, 102, 3, 2. , 3. , 7.4 , 0, 0.64),\n",
              "       ( 58, 298,  99, 2, 4. , 2. , 7.6 , 0, 0.46),\n",
              "       ( 59, 300,  99, 1, 3. , 2. , 6.8 , 1, 0.36),\n",
              "       ( 60, 311, 104, 2, 2. , 2. , 8.3 , 0, 0.42),\n",
              "       ( 61, 309, 100, 2, 3. , 3. , 8.1 , 0, 0.48),\n",
              "       ( 62, 307, 101, 3, 4. , 3. , 8.2 , 0, 0.47),\n",
              "       ( 63, 304, 105, 2, 3. , 3. , 8.2 , 1, 0.54),\n",
              "       ( 64, 315, 107, 2, 4. , 3. , 8.5 , 1, 0.56),\n",
              "       ( 65, 325, 111, 3, 3. , 3.5, 8.7 , 0, 0.52),\n",
              "       ( 66, 325, 112, 4, 3.5, 3.5, 8.92, 0, 0.55),\n",
              "       ( 67, 327, 114, 3, 3. , 3. , 9.02, 0, 0.61),\n",
              "       ( 68, 316, 107, 2, 3.5, 3.5, 8.64, 1, 0.57),\n",
              "       ( 69, 318, 109, 3, 3.5, 4. , 9.22, 1, 0.68),\n",
              "       ( 70, 328, 115, 4, 4.5, 4. , 9.16, 1, 0.78),\n",
              "       ( 71, 332, 118, 5, 5. , 5. , 9.64, 1, 0.94),\n",
              "       ( 72, 336, 112, 5, 5. , 5. , 9.76, 1, 0.96),\n",
              "       ( 73, 321, 111, 5, 5. , 5. , 9.45, 1, 0.93),\n",
              "       ( 74, 314, 108, 4, 4.5, 4. , 9.04, 1, 0.84),\n",
              "       ( 75, 314, 106, 3, 3. , 5. , 8.9 , 0, 0.74),\n",
              "       ( 76, 329, 114, 2, 2. , 4. , 8.56, 1, 0.72),\n",
              "       ( 77, 327, 112, 3, 3. , 3. , 8.72, 1, 0.74),\n",
              "       ( 78, 301,  99, 2, 3. , 2. , 8.22, 0, 0.64),\n",
              "       ( 79, 296,  95, 2, 3. , 2. , 7.54, 1, 0.44),\n",
              "       ( 80, 294,  93, 1, 1.5, 2. , 7.36, 0, 0.46),\n",
              "       ( 81, 312, 105, 3, 2. , 3. , 8.02, 1, 0.5 ),\n",
              "       ( 82, 340, 120, 4, 5. , 5. , 9.5 , 1, 0.96),\n",
              "       ( 83, 320, 110, 5, 5. , 4.5, 9.22, 1, 0.92),\n",
              "       ( 84, 322, 115, 5, 4. , 4.5, 9.36, 1, 0.92),\n",
              "       ( 85, 340, 115, 5, 4.5, 4.5, 9.45, 1, 0.94),\n",
              "       ( 86, 319, 103, 4, 4.5, 3.5, 8.66, 0, 0.76),\n",
              "       ( 87, 315, 106, 3, 4.5, 3.5, 8.42, 0, 0.72),\n",
              "       ( 88, 317, 107, 2, 3.5, 3. , 8.28, 0, 0.66),\n",
              "       ( 89, 314, 108, 3, 4.5, 3.5, 8.14, 0, 0.64),\n",
              "       ( 90, 316, 109, 4, 4.5, 3.5, 8.76, 1, 0.74),\n",
              "       ( 91, 318, 106, 2, 4. , 4. , 7.92, 1, 0.64),\n",
              "       ( 92, 299,  97, 3, 5. , 3.5, 7.66, 0, 0.38),\n",
              "       ( 93, 298,  98, 2, 4. , 3. , 8.03, 0, 0.34),\n",
              "       ( 94, 301,  97, 2, 3. , 3. , 7.88, 1, 0.44),\n",
              "       ( 95, 303,  99, 3, 2. , 2.5, 7.66, 0, 0.36),\n",
              "       ( 96, 304, 100, 4, 1.5, 2.5, 7.84, 0, 0.42),\n",
              "       ( 97, 306, 100, 2, 3. , 3. , 8.  , 0, 0.48),\n",
              "       ( 98, 331, 120, 3, 4. , 4. , 8.96, 1, 0.86),\n",
              "       ( 99, 332, 119, 4, 5. , 4.5, 9.24, 1, 0.9 ),\n",
              "       (100, 323, 113, 3, 4. , 4. , 8.88, 1, 0.79),\n",
              "       (101, 322, 107, 3, 3.5, 3.5, 8.46, 1, 0.71),\n",
              "       (102, 312, 105, 2, 2.5, 3. , 8.12, 0, 0.64),\n",
              "       (103, 314, 106, 2, 4. , 3.5, 8.25, 0, 0.62),\n",
              "       (104, 317, 104, 2, 4.5, 4. , 8.47, 0, 0.57),\n",
              "       (105, 326, 112, 3, 3.5, 3. , 9.05, 1, 0.74),\n",
              "       (106, 316, 110, 3, 4. , 4.5, 8.78, 1, 0.69),\n",
              "       (107, 329, 111, 4, 4.5, 4.5, 9.18, 1, 0.87),\n",
              "       (108, 338, 117, 4, 3.5, 4.5, 9.46, 1, 0.91),\n",
              "       (109, 331, 116, 5, 5. , 5. , 9.38, 1, 0.93),\n",
              "       (110, 304, 103, 5, 5. , 4. , 8.64, 0, 0.68),\n",
              "       (111, 305, 108, 5, 3. , 3. , 8.48, 0, 0.61),\n",
              "       (112, 321, 109, 4, 4. , 4. , 8.68, 1, 0.69),\n",
              "       (113, 301, 107, 3, 3.5, 3.5, 8.34, 1, 0.62),\n",
              "       (114, 320, 110, 2, 4. , 3.5, 8.56, 0, 0.72),\n",
              "       (115, 311, 105, 3, 3.5, 3. , 8.45, 1, 0.59),\n",
              "       (116, 310, 106, 4, 4.5, 4.5, 9.04, 1, 0.66),\n",
              "       (117, 299, 102, 3, 4. , 3.5, 8.62, 0, 0.56),\n",
              "       (118, 290, 104, 4, 2. , 2.5, 7.46, 0, 0.45),\n",
              "       (119, 296,  99, 2, 3. , 3.5, 7.28, 0, 0.47),\n",
              "       (120, 327, 104, 5, 3. , 3.5, 8.84, 1, 0.71),\n",
              "       (121, 335, 117, 5, 5. , 5. , 9.56, 1, 0.94),\n",
              "       (122, 334, 119, 5, 4.5, 4.5, 9.48, 1, 0.94),\n",
              "       (123, 310, 106, 4, 1.5, 2.5, 8.36, 0, 0.57),\n",
              "       (124, 308, 108, 3, 3.5, 3.5, 8.22, 0, 0.61),\n",
              "       (125, 301, 106, 4, 2.5, 3. , 8.47, 0, 0.57),\n",
              "       (126, 300, 100, 3, 2. , 3. , 8.66, 1, 0.64),\n",
              "       (127, 323, 113, 3, 4. , 3. , 9.32, 1, 0.85),\n",
              "       (128, 319, 112, 3, 2.5, 2. , 8.71, 1, 0.78),\n",
              "       (129, 326, 112, 3, 3.5, 3. , 9.1 , 1, 0.84),\n",
              "       (130, 333, 118, 5, 5. , 5. , 9.35, 1, 0.92),\n",
              "       (131, 339, 114, 5, 4. , 4.5, 9.76, 1, 0.96),\n",
              "       (132, 303, 105, 5, 5. , 4.5, 8.65, 0, 0.77),\n",
              "       (133, 309, 105, 5, 3.5, 3.5, 8.56, 0, 0.71),\n",
              "       (134, 323, 112, 5, 4. , 4.5, 8.78, 0, 0.79),\n",
              "       (135, 333, 113, 5, 4. , 4. , 9.28, 1, 0.89),\n",
              "       (136, 314, 109, 4, 3.5, 4. , 8.77, 1, 0.82),\n",
              "       (137, 312, 103, 3, 5. , 4. , 8.45, 0, 0.76),\n",
              "       (138, 316, 100, 2, 1.5, 3. , 8.16, 1, 0.71),\n",
              "       (139, 326, 116, 2, 4.5, 3. , 9.08, 1, 0.8 ),\n",
              "       (140, 318, 109, 1, 3.5, 3.5, 9.12, 0, 0.78),\n",
              "       (141, 329, 110, 2, 4. , 3. , 9.15, 1, 0.84),\n",
              "       (142, 332, 118, 2, 4.5, 3.5, 9.36, 1, 0.9 ),\n",
              "       (143, 331, 115, 5, 4. , 3.5, 9.44, 1, 0.92),\n",
              "       (144, 340, 120, 4, 4.5, 4. , 9.92, 1, 0.97),\n",
              "       (145, 325, 112, 2, 3. , 3.5, 8.96, 1, 0.8 ),\n",
              "       (146, 320, 113, 2, 2. , 2.5, 8.64, 1, 0.81),\n",
              "       (147, 315, 105, 3, 2. , 2.5, 8.48, 0, 0.75),\n",
              "       (148, 326, 114, 3, 3. , 3. , 9.11, 1, 0.83),\n",
              "       (149, 339, 116, 4, 4. , 3.5, 9.8 , 1, 0.96),\n",
              "       (150, 311, 106, 2, 3.5, 3. , 8.26, 1, 0.79),\n",
              "       (151, 334, 114, 4, 4. , 4. , 9.43, 1, 0.93),\n",
              "       (152, 332, 116, 5, 5. , 5. , 9.28, 1, 0.94),\n",
              "       (153, 321, 112, 5, 5. , 5. , 9.06, 1, 0.86),\n",
              "       (154, 324, 105, 3, 3. , 4. , 8.75, 0, 0.79),\n",
              "       (155, 326, 108, 3, 3. , 3.5, 8.89, 0, 0.8 ),\n",
              "       (156, 312, 109, 3, 3. , 3. , 8.69, 0, 0.77),\n",
              "       (157, 315, 105, 3, 2. , 2.5, 8.34, 0, 0.7 ),\n",
              "       (158, 309, 104, 2, 2. , 2.5, 8.26, 0, 0.65),\n",
              "       (159, 306, 106, 2, 2. , 2.5, 8.14, 0, 0.61),\n",
              "       (160, 297, 100, 1, 1.5, 2. , 7.9 , 0, 0.52),\n",
              "       (161, 315, 103, 1, 1.5, 2. , 7.86, 0, 0.57),\n",
              "       (162, 298,  99, 1, 1.5, 3. , 7.46, 0, 0.53),\n",
              "       (163, 318, 109, 3, 3. , 3. , 8.5 , 0, 0.67),\n",
              "       (164, 317, 105, 3, 3.5, 3. , 8.56, 0, 0.68),\n",
              "       (165, 329, 111, 4, 4.5, 4. , 9.01, 1, 0.81),\n",
              "       (166, 322, 110, 5, 4.5, 4. , 8.97, 0, 0.78),\n",
              "       (167, 302, 102, 3, 3.5, 5. , 8.33, 0, 0.65),\n",
              "       (168, 313, 102, 3, 2. , 3. , 8.27, 0, 0.64),\n",
              "       (169, 293,  97, 2, 2. , 4. , 7.8 , 1, 0.64),\n",
              "       (170, 311,  99, 2, 2.5, 3. , 7.98, 0, 0.65),\n",
              "       (171, 312, 101, 2, 2.5, 3.5, 8.04, 1, 0.68),\n",
              "       (172, 334, 117, 5, 4. , 4.5, 9.07, 1, 0.89),\n",
              "       (173, 322, 110, 4, 4. , 5. , 9.13, 1, 0.86),\n",
              "       (174, 323, 113, 4, 4. , 4.5, 9.23, 1, 0.89),\n",
              "       (175, 321, 111, 4, 4. , 4. , 8.97, 1, 0.87),\n",
              "       (176, 320, 111, 4, 4.5, 3.5, 8.87, 1, 0.85),\n",
              "       (177, 329, 119, 4, 4.5, 4.5, 9.16, 1, 0.9 ),\n",
              "       (178, 319, 110, 3, 3.5, 3.5, 9.04, 0, 0.82),\n",
              "       (179, 309, 108, 3, 2.5, 3. , 8.12, 0, 0.72),\n",
              "       (180, 307, 102, 3, 3. , 3. , 8.27, 0, 0.73),\n",
              "       (181, 300, 104, 3, 3.5, 3. , 8.16, 0, 0.71),\n",
              "       (182, 305, 107, 2, 2.5, 2.5, 8.42, 0, 0.71),\n",
              "       (183, 299, 100, 2, 3. , 3.5, 7.88, 0, 0.68),\n",
              "       (184, 314, 110, 3, 4. , 4. , 8.8 , 0, 0.75),\n",
              "       (185, 316, 106, 2, 2.5, 4. , 8.32, 0, 0.72),\n",
              "       (186, 327, 113, 4, 4.5, 4.5, 9.11, 1, 0.89),\n",
              "       (187, 317, 107, 3, 3.5, 3. , 8.68, 1, 0.84),\n",
              "       (188, 335, 118, 5, 4.5, 3.5, 9.44, 1, 0.93),\n",
              "       (189, 331, 115, 5, 4.5, 3.5, 9.36, 1, 0.93),\n",
              "       (190, 324, 112, 5, 5. , 5. , 9.08, 1, 0.88),\n",
              "       (191, 324, 111, 5, 4.5, 4. , 9.16, 1, 0.9 ),\n",
              "       (192, 323, 110, 5, 4. , 5. , 8.98, 1, 0.87),\n",
              "       (193, 322, 114, 5, 4.5, 4. , 8.94, 1, 0.86),\n",
              "       (194, 336, 118, 5, 4.5, 5. , 9.53, 1, 0.94),\n",
              "       (195, 316, 109, 3, 3.5, 3. , 8.76, 0, 0.77),\n",
              "       (196, 307, 107, 2, 3. , 3.5, 8.52, 1, 0.78),\n",
              "       (197, 306, 105, 2, 3. , 2.5, 8.26, 0, 0.73),\n",
              "       (198, 310, 106, 2, 3.5, 2.5, 8.33, 0, 0.73),\n",
              "       (199, 311, 104, 3, 4.5, 4.5, 8.43, 0, 0.7 ),\n",
              "       (200, 313, 107, 3, 4. , 4.5, 8.69, 0, 0.72),\n",
              "       (201, 317, 103, 3, 2.5, 3. , 8.54, 1, 0.73),\n",
              "       (202, 315, 110, 2, 3.5, 3. , 8.46, 1, 0.72),\n",
              "       (203, 340, 120, 5, 4.5, 4.5, 9.91, 1, 0.97),\n",
              "       (204, 334, 120, 5, 4. , 5. , 9.87, 1, 0.97),\n",
              "       (205, 298, 105, 3, 3.5, 4. , 8.54, 0, 0.69),\n",
              "       (206, 295,  99, 2, 2.5, 3. , 7.65, 0, 0.57),\n",
              "       (207, 315,  99, 2, 3.5, 3. , 7.89, 0, 0.63),\n",
              "       (208, 310, 102, 3, 3.5, 4. , 8.02, 1, 0.66),\n",
              "       (209, 305, 106, 2, 3. , 3. , 8.16, 0, 0.64),\n",
              "       (210, 301, 104, 3, 3.5, 4. , 8.12, 1, 0.68),\n",
              "       (211, 325, 108, 4, 4.5, 4. , 9.06, 1, 0.79),\n",
              "       (212, 328, 110, 4, 5. , 4. , 9.14, 1, 0.82),\n",
              "       (213, 338, 120, 4, 5. , 5. , 9.66, 1, 0.95),\n",
              "       (214, 333, 119, 5, 5. , 4.5, 9.78, 1, 0.96),\n",
              "       (215, 331, 117, 4, 4.5, 5. , 9.42, 1, 0.94),\n",
              "       (216, 330, 116, 5, 5. , 4.5, 9.36, 1, 0.93),\n",
              "       (217, 322, 112, 4, 4.5, 4.5, 9.26, 1, 0.91),\n",
              "       (218, 321, 109, 4, 4. , 4. , 9.13, 1, 0.85),\n",
              "       (219, 324, 110, 4, 3. , 3.5, 8.97, 1, 0.84),\n",
              "       (220, 312, 104, 3, 3.5, 3.5, 8.42, 0, 0.74),\n",
              "       (221, 313, 103, 3, 4. , 4. , 8.75, 0, 0.76),\n",
              "       (222, 316, 110, 3, 3.5, 4. , 8.56, 0, 0.75),\n",
              "       (223, 324, 113, 4, 4.5, 4. , 8.79, 0, 0.76),\n",
              "       (224, 308, 109, 2, 3. , 4. , 8.45, 0, 0.71),\n",
              "       (225, 305, 105, 2, 3. , 2. , 8.23, 0, 0.67),\n",
              "       (226, 296,  99, 2, 2.5, 2.5, 8.03, 0, 0.61),\n",
              "       (227, 306, 110, 2, 3.5, 4. , 8.45, 0, 0.63),\n",
              "       (228, 312, 110, 2, 3.5, 3. , 8.53, 0, 0.64),\n",
              "       (229, 318, 112, 3, 4. , 3.5, 8.67, 0, 0.71),\n",
              "       (230, 324, 111, 4, 3. , 3. , 9.01, 1, 0.82),\n",
              "       (231, 313, 104, 3, 4. , 4.5, 8.65, 0, 0.73),\n",
              "       (232, 319, 106, 3, 3.5, 2.5, 8.33, 1, 0.74),\n",
              "       (233, 312, 107, 2, 2.5, 3.5, 8.27, 0, 0.69),\n",
              "       (234, 304, 100, 2, 2.5, 3.5, 8.07, 0, 0.64),\n",
              "       (235, 330, 113, 5, 5. , 4. , 9.31, 1, 0.91),\n",
              "       (236, 326, 111, 5, 4.5, 4. , 9.23, 1, 0.88),\n",
              "       (237, 325, 112, 4, 4. , 4.5, 9.17, 1, 0.85),\n",
              "       (238, 329, 114, 5, 4.5, 5. , 9.19, 1, 0.86),\n",
              "       (239, 310, 104, 3, 2. , 3.5, 8.37, 0, 0.7 ),\n",
              "       (240, 299, 100, 1, 1.5, 2. , 7.89, 0, 0.59),\n",
              "       (241, 296, 101, 1, 2.5, 3. , 7.68, 0, 0.6 ),\n",
              "       (242, 317, 103, 2, 2.5, 2. , 8.15, 0, 0.65),\n",
              "       (243, 324, 115, 3, 3.5, 3. , 8.76, 1, 0.7 ),\n",
              "       (244, 325, 114, 3, 3.5, 3. , 9.04, 1, 0.76),\n",
              "       (245, 314, 107, 2, 2.5, 4. , 8.56, 0, 0.63),\n",
              "       (246, 328, 110, 4, 4. , 2.5, 9.02, 1, 0.81),\n",
              "       (247, 316, 105, 3, 3. , 3.5, 8.73, 0, 0.72),\n",
              "       (248, 311, 104, 2, 2.5, 3.5, 8.48, 0, 0.71),\n",
              "       (249, 324, 110, 3, 3.5, 4. , 8.87, 1, 0.8 ),\n",
              "       (250, 321, 111, 3, 3.5, 4. , 8.83, 1, 0.77),\n",
              "       (251, 320, 104, 3, 3. , 2.5, 8.57, 1, 0.74),\n",
              "       (252, 316,  99, 2, 2.5, 3. , 9.  , 0, 0.7 ),\n",
              "       (253, 318, 100, 2, 2.5, 3.5, 8.54, 1, 0.71),\n",
              "       (254, 335, 115, 4, 4.5, 4.5, 9.68, 1, 0.93),\n",
              "       (255, 321, 114, 4, 4. , 5. , 9.12, 0, 0.85),\n",
              "       (256, 307, 110, 4, 4. , 4.5, 8.37, 0, 0.79),\n",
              "       (257, 309,  99, 3, 4. , 4. , 8.56, 0, 0.76),\n",
              "       (258, 324, 100, 3, 4. , 5. , 8.64, 1, 0.78),\n",
              "       (259, 326, 102, 4, 5. , 5. , 8.76, 1, 0.77),\n",
              "       (260, 331, 119, 4, 5. , 4.5, 9.34, 1, 0.9 ),\n",
              "       (261, 327, 108, 5, 5. , 3.5, 9.13, 1, 0.87),\n",
              "       (262, 312, 104, 3, 3.5, 4. , 8.09, 0, 0.71),\n",
              "       (263, 308, 103, 2, 2.5, 4. , 8.36, 1, 0.7 ),\n",
              "       (264, 324, 111, 3, 2.5, 1.5, 8.79, 1, 0.7 ),\n",
              "       (265, 325, 110, 2, 3. , 2.5, 8.76, 1, 0.75),\n",
              "       (266, 313, 102, 3, 2.5, 2.5, 8.68, 0, 0.71),\n",
              "       (267, 312, 105, 2, 2. , 2.5, 8.45, 0, 0.72),\n",
              "       (268, 314, 107, 3, 3. , 3.5, 8.17, 1, 0.73),\n",
              "       (269, 327, 113, 4, 4.5, 5. , 9.14, 0, 0.83),\n",
              "       (270, 308, 108, 4, 4.5, 5. , 8.34, 0, 0.77),\n",
              "       (271, 306, 105, 2, 2.5, 3. , 8.22, 1, 0.72),\n",
              "       (272, 299,  96, 2, 1.5, 2. , 7.86, 0, 0.54),\n",
              "       (273, 294,  95, 1, 1.5, 1.5, 7.64, 0, 0.49),\n",
              "       (274, 312,  99, 1, 1. , 1.5, 8.01, 1, 0.52),\n",
              "       (275, 315, 100, 1, 2. , 2.5, 7.95, 0, 0.58),\n",
              "       (276, 322, 110, 3, 3.5, 3. , 8.96, 1, 0.78),\n",
              "       (277, 329, 113, 5, 5. , 4.5, 9.45, 1, 0.89),\n",
              "       (278, 320, 101, 2, 2.5, 3. , 8.62, 0, 0.7 ),\n",
              "       (279, 308, 103, 2, 3. , 3.5, 8.49, 0, 0.66),\n",
              "       (280, 304, 102, 2, 3. , 4. , 8.73, 0, 0.67),\n",
              "       (281, 311, 102, 3, 4.5, 4. , 8.64, 1, 0.68),\n",
              "       (282, 317, 110, 3, 4. , 4.5, 9.11, 1, 0.8 ),\n",
              "       (283, 312, 106, 3, 4. , 3.5, 8.79, 1, 0.81),\n",
              "       (284, 321, 111, 3, 2.5, 3. , 8.9 , 1, 0.8 ),\n",
              "       (285, 340, 112, 4, 5. , 4.5, 9.66, 1, 0.94),\n",
              "       (286, 331, 116, 5, 4. , 4. , 9.26, 1, 0.93),\n",
              "       (287, 336, 118, 5, 4.5, 4. , 9.19, 1, 0.92),\n",
              "       (288, 324, 114, 5, 5. , 4.5, 9.08, 1, 0.89),\n",
              "       (289, 314, 104, 4, 5. , 5. , 9.02, 0, 0.82),\n",
              "       (290, 313, 109, 3, 4. , 3.5, 9.  , 0, 0.79),\n",
              "       (291, 307, 105, 2, 2.5, 3. , 7.65, 0, 0.58),\n",
              "       (292, 300, 102, 2, 1.5, 2. , 7.87, 0, 0.56),\n",
              "       (293, 302,  99, 2, 1. , 2. , 7.97, 0, 0.56),\n",
              "       (294, 312,  98, 1, 3.5, 3. , 8.18, 1, 0.64),\n",
              "       (295, 316, 101, 2, 2.5, 2. , 8.32, 1, 0.61),\n",
              "       (296, 317, 100, 2, 3. , 2.5, 8.57, 0, 0.68),\n",
              "       (297, 310, 107, 3, 3.5, 3.5, 8.67, 0, 0.76),\n",
              "       (298, 320, 120, 3, 4. , 4.5, 9.11, 0, 0.86),\n",
              "       (299, 330, 114, 3, 4.5, 4.5, 9.24, 1, 0.9 ),\n",
              "       (300, 305, 112, 3, 3. , 3.5, 8.65, 0, 0.71),\n",
              "       (301, 309, 106, 2, 2.5, 2.5, 8.  , 0, 0.62),\n",
              "       (302, 319, 108, 2, 2.5, 3. , 8.76, 0, 0.66),\n",
              "       (303, 322, 105, 2, 3. , 3. , 8.45, 1, 0.65),\n",
              "       (304, 323, 107, 3, 3.5, 3.5, 8.55, 1, 0.73),\n",
              "       (305, 313, 106, 2, 2.5, 2. , 8.43, 0, 0.62),\n",
              "       (306, 321, 109, 3, 3.5, 3.5, 8.8 , 1, 0.74),\n",
              "       (307, 323, 110, 3, 4. , 3.5, 9.1 , 1, 0.79),\n",
              "       (308, 325, 112, 4, 4. , 4. , 9.  , 1, 0.8 ),\n",
              "       (309, 312, 108, 3, 3.5, 3. , 8.53, 0, 0.69),\n",
              "       (310, 308, 110, 4, 3.5, 3. , 8.6 , 0, 0.7 ),\n",
              "       (311, 320, 104, 3, 3. , 3.5, 8.74, 1, 0.76),\n",
              "       (312, 328, 108, 4, 4.5, 4. , 9.18, 1, 0.84),\n",
              "       (313, 311, 107, 4, 4.5, 4.5, 9.  , 1, 0.78),\n",
              "       (314, 301, 100, 3, 3.5, 3. , 8.04, 0, 0.67),\n",
              "       (315, 305, 105, 2, 3. , 4. , 8.13, 0, 0.66),\n",
              "       (316, 308, 104, 2, 2.5, 3. , 8.07, 0, 0.65),\n",
              "       (317, 298, 101, 2, 1.5, 2. , 7.86, 0, 0.54),\n",
              "       (318, 300,  99, 1, 1. , 2.5, 8.01, 0, 0.58),\n",
              "       (319, 324, 111, 3, 2.5, 2. , 8.8 , 1, 0.79),\n",
              "       (320, 327, 113, 4, 3.5, 3. , 8.69, 1, 0.8 ),\n",
              "       (321, 317, 106, 3, 4. , 3.5, 8.5 , 1, 0.75),\n",
              "       (322, 323, 104, 3, 4. , 4. , 8.44, 1, 0.73),\n",
              "       (323, 314, 107, 2, 2.5, 4. , 8.27, 0, 0.72),\n",
              "       (324, 305, 102, 2, 2. , 2.5, 8.18, 0, 0.62),\n",
              "       (325, 315, 104, 3, 3. , 2.5, 8.33, 0, 0.67),\n",
              "       (326, 326, 116, 3, 3.5, 4. , 9.14, 1, 0.81),\n",
              "       (327, 299, 100, 3, 2. , 2. , 8.02, 0, 0.63),\n",
              "       (328, 295, 101, 2, 2.5, 2. , 7.86, 0, 0.69),\n",
              "       (329, 324, 112, 4, 4. , 3.5, 8.77, 1, 0.8 ),\n",
              "       (330, 297,  96, 2, 2.5, 1.5, 7.89, 0, 0.43),\n",
              "       (331, 327, 113, 3, 3.5, 3. , 8.66, 1, 0.8 ),\n",
              "       (332, 311, 105, 2, 3. , 2. , 8.12, 1, 0.73),\n",
              "       (333, 308, 106, 3, 3.5, 2.5, 8.21, 1, 0.75),\n",
              "       (334, 319, 108, 3, 3. , 3.5, 8.54, 1, 0.71),\n",
              "       (335, 312, 107, 4, 4.5, 4. , 8.65, 1, 0.73),\n",
              "       (336, 325, 111, 4, 4. , 4.5, 9.11, 1, 0.83),\n",
              "       (337, 319, 110, 3, 3. , 2.5, 8.79, 0, 0.72),\n",
              "       (338, 332, 118, 5, 5. , 5. , 9.47, 1, 0.94),\n",
              "       (339, 323, 108, 5, 4. , 4. , 8.74, 1, 0.81),\n",
              "       (340, 324, 107, 5, 3.5, 4. , 8.66, 1, 0.81),\n",
              "       (341, 312, 107, 3, 3. , 3. , 8.46, 1, 0.75),\n",
              "       (342, 326, 110, 3, 3.5, 3.5, 8.76, 1, 0.79),\n",
              "       (343, 308, 106, 3, 3. , 3. , 8.24, 0, 0.58),\n",
              "       (344, 305, 103, 2, 2.5, 3.5, 8.13, 0, 0.59),\n",
              "       (345, 295,  96, 2, 1.5, 2. , 7.34, 0, 0.47),\n",
              "       (346, 316,  98, 1, 1.5, 2. , 7.43, 0, 0.49),\n",
              "       (347, 304,  97, 2, 1.5, 2. , 7.64, 0, 0.47),\n",
              "       (348, 299,  94, 1, 1. , 1. , 7.34, 0, 0.42),\n",
              "       (349, 302,  99, 1, 2. , 2. , 7.25, 0, 0.57),\n",
              "       (350, 313, 101, 3, 2.5, 3. , 8.04, 0, 0.62),\n",
              "       (351, 318, 107, 3, 3. , 3.5, 8.27, 1, 0.74),\n",
              "       (352, 325, 110, 4, 3.5, 4. , 8.67, 1, 0.73),\n",
              "       (353, 303, 100, 2, 3. , 3.5, 8.06, 1, 0.64),\n",
              "       (354, 300, 102, 3, 3.5, 2.5, 8.17, 0, 0.63),\n",
              "       (355, 297,  98, 2, 2.5, 3. , 7.67, 0, 0.59),\n",
              "       (356, 317, 106, 2, 2. , 3.5, 8.12, 0, 0.73),\n",
              "       (357, 327, 109, 3, 3.5, 4. , 8.77, 1, 0.79),\n",
              "       (358, 301, 104, 2, 3.5, 3.5, 7.89, 1, 0.68),\n",
              "       (359, 314, 105, 2, 2.5, 2. , 7.64, 0, 0.7 ),\n",
              "       (360, 321, 107, 2, 2. , 1.5, 8.44, 0, 0.81),\n",
              "       (361, 322, 110, 3, 4. , 5. , 8.64, 1, 0.85),\n",
              "       (362, 334, 116, 4, 4. , 3.5, 9.54, 1, 0.93),\n",
              "       (363, 338, 115, 5, 4.5, 5. , 9.23, 1, 0.91),\n",
              "       (364, 306, 103, 2, 2.5, 3. , 8.36, 0, 0.69),\n",
              "       (365, 313, 102, 3, 3.5, 4. , 8.9 , 1, 0.77),\n",
              "       (366, 330, 114, 4, 4.5, 3. , 9.17, 1, 0.86),\n",
              "       (367, 320, 104, 3, 3.5, 4.5, 8.34, 1, 0.74),\n",
              "       (368, 311,  98, 1, 1. , 2.5, 7.46, 0, 0.57),\n",
              "       (369, 298,  92, 1, 2. , 2. , 7.88, 0, 0.51),\n",
              "       (370, 301,  98, 1, 2. , 3. , 8.03, 1, 0.67),\n",
              "       (371, 310, 103, 2, 2.5, 2.5, 8.24, 0, 0.72),\n",
              "       (372, 324, 110, 3, 3.5, 3. , 9.22, 1, 0.89),\n",
              "       (373, 336, 119, 4, 4.5, 4. , 9.62, 1, 0.95),\n",
              "       (374, 321, 109, 3, 3. , 3. , 8.54, 1, 0.79),\n",
              "       (375, 315, 105, 2, 2. , 2.5, 7.65, 0, 0.39),\n",
              "       (376, 304, 101, 2, 2. , 2.5, 7.66, 0, 0.38),\n",
              "       (377, 297,  96, 2, 2.5, 2. , 7.43, 0, 0.34),\n",
              "       (378, 290, 100, 1, 1.5, 2. , 7.56, 0, 0.47),\n",
              "       (379, 303,  98, 1, 2. , 2.5, 7.65, 0, 0.56),\n",
              "       (380, 311,  99, 1, 2.5, 3. , 8.43, 1, 0.71),\n",
              "       (381, 322, 104, 3, 3.5, 4. , 8.84, 1, 0.78),\n",
              "       (382, 319, 105, 3, 3. , 3.5, 8.67, 1, 0.73),\n",
              "       (383, 324, 110, 4, 4.5, 4. , 9.15, 1, 0.82),\n",
              "       (384, 300, 100, 3, 3. , 3.5, 8.26, 0, 0.62),\n",
              "       (385, 340, 113, 4, 5. , 5. , 9.74, 1, 0.96),\n",
              "       (386, 335, 117, 5, 5. , 5. , 9.82, 1, 0.96),\n",
              "       (387, 302, 101, 2, 2.5, 3.5, 7.96, 0, 0.46),\n",
              "       (388, 307, 105, 2, 2. , 3.5, 8.1 , 0, 0.53),\n",
              "       (389, 296,  97, 2, 1.5, 2. , 7.8 , 0, 0.49),\n",
              "       (390, 320, 108, 3, 3.5, 4. , 8.44, 1, 0.76),\n",
              "       (391, 314, 102, 2, 2. , 2.5, 8.24, 0, 0.64),\n",
              "       (392, 318, 106, 3, 2. , 3. , 8.65, 0, 0.71),\n",
              "       (393, 326, 112, 4, 4. , 3.5, 9.12, 1, 0.84),\n",
              "       (394, 317, 104, 2, 3. , 3. , 8.76, 0, 0.77),\n",
              "       (395, 329, 111, 4, 4.5, 4. , 9.23, 1, 0.89),\n",
              "       (396, 324, 110, 3, 3.5, 3.5, 9.04, 1, 0.82),\n",
              "       (397, 325, 107, 3, 3. , 3.5, 9.11, 1, 0.84),\n",
              "       (398, 330, 116, 4, 5. , 4.5, 9.45, 1, 0.91),\n",
              "       (399, 312, 103, 3, 3.5, 4. , 8.78, 0, 0.67),\n",
              "       (400, 333, 117, 4, 5. , 4. , 9.66, 1, 0.95)],\n",
              "      dtype=[('Serial_No', '<i8'), ('GRE_Score', '<i8'), ('TOEFL_Score', '<i8'), ('University_Rating', '<i8'), ('SOP', '<f8'), ('LOR', '<f8'), ('CGPA', '<f8'), ('Research', '<i8'), ('Chance_of_Admit', '<f8')])"
            ]
          },
          "metadata": {},
          "execution_count": 21
        }
      ]
    },
    {
      "cell_type": "code",
      "source": [
        "graduate_admission['CGPA'][0:5]"
      ],
      "metadata": {
        "colab": {
          "base_uri": "https://localhost:8080/"
        },
        "id": "s4mjuS4EQr4i",
        "outputId": "ebb098e8-72d1-4fd8-d588-4d350386c2f0"
      },
      "execution_count": 22,
      "outputs": [
        {
          "output_type": "execute_result",
          "data": {
            "text/plain": [
              "array([9.65, 8.87, 8.  , 8.67, 8.21])"
            ]
          },
          "metadata": {},
          "execution_count": 22
        }
      ]
    },
    {
      "cell_type": "code",
      "source": [
        "graduate_admission['CGPA'] = graduate_admission['CGPA']/10*4\n",
        "graduate_admission['CGPA'][0:20]"
      ],
      "metadata": {
        "colab": {
          "base_uri": "https://localhost:8080/"
        },
        "id": "fztjAvUrRZ4s",
        "outputId": "92e367ba-c482-4660-d5e3-2ef06490665e"
      },
      "execution_count": 24,
      "outputs": [
        {
          "output_type": "execute_result",
          "data": {
            "text/plain": [
              "array([1.544 , 1.4192, 1.28  , 1.3872, 1.3136, 1.4944, 1.312 , 1.264 ,\n",
              "       1.28  , 1.376 , 1.344 , 1.44  , 1.456 , 1.28  , 1.312 , 1.328 ,\n",
              "       1.392 , 1.28  , 1.408 , 1.36  ])"
            ]
          },
          "metadata": {},
          "execution_count": 24
        }
      ]
    },
    {
      "cell_type": "code",
      "source": [
        "len(graduate_admission[graduate_admission['Research'] == 1])"
      ],
      "metadata": {
        "colab": {
          "base_uri": "https://localhost:8080/"
        },
        "id": "HacCcWIdRs_F",
        "outputId": "ebd330d2-e4d0-4027-ed04-3e986fc53f14"
      },
      "execution_count": 25,
      "outputs": [
        {
          "output_type": "execute_result",
          "data": {
            "text/plain": [
              "219"
            ]
          },
          "metadata": {},
          "execution_count": 25
        }
      ]
    },
    {
      "cell_type": "code",
      "source": [
        "print(graduate_admission[graduate_admission['Chance_of_Admit'] > 0.8]['CGPA'].mean())\n",
        "print(graduate_admission[graduate_admission['Chance_of_Admit'] < 0.4]['CGPA'].mean())"
      ],
      "metadata": {
        "colab": {
          "base_uri": "https://localhost:8080/"
        },
        "id": "RmO22dqaSNoe",
        "outputId": "5ac906b9-82eb-4212-aec0-4945de13473a"
      },
      "execution_count": 30,
      "outputs": [
        {
          "output_type": "stream",
          "name": "stdout",
          "text": [
            "1.4842666666666668\n",
            "1.2089142857142858\n"
          ]
        }
      ]
    },
    {
      "cell_type": "code",
      "source": [],
      "metadata": {
        "id": "ht0dHuPGSy92"
      },
      "execution_count": null,
      "outputs": []
    }
  ]
}